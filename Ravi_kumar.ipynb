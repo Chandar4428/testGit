{
 "cells": [
  {
   "cell_type": "code",
   "execution_count": 1,
   "metadata": {},
   "outputs": [],
   "source": [
    "rm(list = ls())"
   ]
  },
  {
   "cell_type": "code",
   "execution_count": 2,
   "metadata": {},
   "outputs": [
    {
     "data": {
      "text/html": [
       "'C:/Users/Chandar'"
      ],
      "text/latex": [
       "'C:/Users/Chandar'"
      ],
      "text/markdown": [
       "'C:/Users/Chandar'"
      ],
      "text/plain": [
       "[1] \"C:/Users/Chandar\""
      ]
     },
     "metadata": {},
     "output_type": "display_data"
    }
   ],
   "source": [
    "getwd()"
   ]
  },
  {
   "cell_type": "code",
   "execution_count": 3,
   "metadata": {},
   "outputs": [],
   "source": [
    "setwd(\"E:/Coding\")"
   ]
  },
  {
   "cell_type": "code",
   "execution_count": 4,
   "metadata": {},
   "outputs": [
    {
     "data": {
      "text/html": [
       "'E:/Coding'"
      ],
      "text/latex": [
       "'E:/Coding'"
      ],
      "text/markdown": [
       "'E:/Coding'"
      ],
      "text/plain": [
       "[1] \"E:/Coding\""
      ]
     },
     "metadata": {},
     "output_type": "display_data"
    }
   ],
   "source": [
    "getwd()"
   ]
  },
  {
   "cell_type": "code",
   "execution_count": 5,
   "metadata": {},
   "outputs": [],
   "source": [
    "# #loading Libraries\n",
    "x = c(\"ggplot2\", \"corrgram\", \"DMwR\", \"usdm\", \"caret\", \"randomForest\", \"e1071\",\n",
    "      \"DataCombine\", \"doSNOW\", \"inTrees\", \"rpart.plot\", \"rpart\",'MASS','xgboost','stats')"
   ]
  },
  {
   "cell_type": "code",
   "execution_count": 6,
   "metadata": {},
   "outputs": [
    {
     "name": "stderr",
     "output_type": "stream",
     "text": [
      "Loading required package: ggplot2\n",
      "Registered S3 methods overwritten by 'ggplot2':\n",
      "  method         from \n",
      "  [.quosures     rlang\n",
      "  c.quosures     rlang\n",
      "  print.quosures rlang\n",
      "Loading required package: corrgram\n",
      "Warning message in library(package, lib.loc = lib.loc, character.only = TRUE, logical.return = TRUE, :\n",
      "\"there is no package called 'corrgram'\"Loading required package: DMwR\n",
      "Warning message in library(package, lib.loc = lib.loc, character.only = TRUE, logical.return = TRUE, :\n",
      "\"there is no package called 'DMwR'\"Loading required package: usdm\n",
      "Loading required package: sp\n",
      "Loading required package: raster\n",
      "Loading required package: caret\n",
      "Loading required package: lattice\n",
      "Loading required package: randomForest\n",
      "randomForest 4.6-14\n",
      "Type rfNews() to see new features/changes/bug fixes.\n",
      "\n",
      "Attaching package: 'randomForest'\n",
      "\n",
      "The following object is masked from 'package:ggplot2':\n",
      "\n",
      "    margin\n",
      "\n",
      "Loading required package: e1071\n",
      "Warning message in library(package, lib.loc = lib.loc, character.only = TRUE, logical.return = TRUE, :\n",
      "\"there is no package called 'e1071'\"Loading required package: DataCombine\n",
      "Warning message in library(package, lib.loc = lib.loc, character.only = TRUE, logical.return = TRUE, :\n",
      "\"there is no package called 'DataCombine'\"Loading required package: doSNOW\n",
      "Warning message in library(package, lib.loc = lib.loc, character.only = TRUE, logical.return = TRUE, :\n",
      "\"there is no package called 'doSNOW'\"Loading required package: inTrees\n",
      "Warning message in library(package, lib.loc = lib.loc, character.only = TRUE, logical.return = TRUE, :\n",
      "\"there is no package called 'inTrees'\"Loading required package: rpart.plot\n",
      "Warning message in library(package, lib.loc = lib.loc, character.only = TRUE, logical.return = TRUE, :\n",
      "\"there is no package called 'rpart.plot'\"Loading required package: rpart\n",
      "Loading required package: MASS\n",
      "\n",
      "Attaching package: 'MASS'\n",
      "\n",
      "The following objects are masked from 'package:raster':\n",
      "\n",
      "    area, select\n",
      "\n",
      "Loading required package: xgboost\n",
      "Warning message in library(package, lib.loc = lib.loc, character.only = TRUE, logical.return = TRUE, :\n",
      "\"there is no package called 'xgboost'\""
     ]
    },
    {
     "data": {
      "text/html": [
       "<ol>\n",
       "\t<li>TRUE</li>\n",
       "\t<li>FALSE</li>\n",
       "\t<li>FALSE</li>\n",
       "\t<li>TRUE</li>\n",
       "\t<li>TRUE</li>\n",
       "\t<li>TRUE</li>\n",
       "\t<li>FALSE</li>\n",
       "\t<li>FALSE</li>\n",
       "\t<li>FALSE</li>\n",
       "\t<li>FALSE</li>\n",
       "\t<li>FALSE</li>\n",
       "\t<li>TRUE</li>\n",
       "\t<li>TRUE</li>\n",
       "\t<li>FALSE</li>\n",
       "\t<li>TRUE</li>\n",
       "</ol>\n"
      ],
      "text/latex": [
       "\\begin{enumerate}\n",
       "\\item TRUE\n",
       "\\item FALSE\n",
       "\\item FALSE\n",
       "\\item TRUE\n",
       "\\item TRUE\n",
       "\\item TRUE\n",
       "\\item FALSE\n",
       "\\item FALSE\n",
       "\\item FALSE\n",
       "\\item FALSE\n",
       "\\item FALSE\n",
       "\\item TRUE\n",
       "\\item TRUE\n",
       "\\item FALSE\n",
       "\\item TRUE\n",
       "\\end{enumerate}\n"
      ],
      "text/markdown": [
       "1. TRUE\n",
       "2. FALSE\n",
       "3. FALSE\n",
       "4. TRUE\n",
       "5. TRUE\n",
       "6. TRUE\n",
       "7. FALSE\n",
       "8. FALSE\n",
       "9. FALSE\n",
       "10. FALSE\n",
       "11. FALSE\n",
       "12. TRUE\n",
       "13. TRUE\n",
       "14. FALSE\n",
       "15. TRUE\n",
       "\n",
       "\n"
      ],
      "text/plain": [
       "[[1]]\n",
       "[1] TRUE\n",
       "\n",
       "[[2]]\n",
       "[1] FALSE\n",
       "\n",
       "[[3]]\n",
       "[1] FALSE\n",
       "\n",
       "[[4]]\n",
       "[1] TRUE\n",
       "\n",
       "[[5]]\n",
       "[1] TRUE\n",
       "\n",
       "[[6]]\n",
       "[1] TRUE\n",
       "\n",
       "[[7]]\n",
       "[1] FALSE\n",
       "\n",
       "[[8]]\n",
       "[1] FALSE\n",
       "\n",
       "[[9]]\n",
       "[1] FALSE\n",
       "\n",
       "[[10]]\n",
       "[1] FALSE\n",
       "\n",
       "[[11]]\n",
       "[1] FALSE\n",
       "\n",
       "[[12]]\n",
       "[1] TRUE\n",
       "\n",
       "[[13]]\n",
       "[1] TRUE\n",
       "\n",
       "[[14]]\n",
       "[1] FALSE\n",
       "\n",
       "[[15]]\n",
       "[1] TRUE\n"
      ]
     },
     "metadata": {},
     "output_type": "display_data"
    }
   ],
   "source": [
    "#load Packages\n",
    "lapply(x, require, character.only = TRUE)\n",
    "rm(x)"
   ]
  },
  {
   "cell_type": "code",
   "execution_count": 9,
   "metadata": {},
   "outputs": [],
   "source": [
    "# loading datasets\n",
    "train = read.csv(\"train_cab.csv\", header = T, na.strings = c(\" \", \"\", \"NA\"))\n",
    "test = read.csv(\"test.csv\")\n",
    "test_pickup_datetime = test[\"pickup_datetime\"]"
   ]
  },
  {
   "cell_type": "code",
   "execution_count": 10,
   "metadata": {},
   "outputs": [
    {
     "name": "stdout",
     "output_type": "stream",
     "text": [
      "'data.frame':\t16067 obs. of  7 variables:\n",
      " $ fare_amount      : Factor w/ 468 levels \"-2.5\",\"-2.9\",..: 301 58 373 432 370 26 431 56 NA 453 ...\n",
      " $ pickup_datetime  : Factor w/ 16021 levels \"2009-01-01 01:31:49 UTC\",..: 1115 2509 6550 8252 2919 4986 9743 7479 9838 1606 ...\n",
      " $ pickup_longitude : num  -73.8 -74 -74 -74 -74 ...\n",
      " $ pickup_latitude  : num  40.7 40.7 40.8 40.7 40.8 ...\n",
      " $ dropoff_longitude: num  -73.8 -74 -74 -74 -74 ...\n",
      " $ dropoff_latitude : num  40.7 40.8 40.8 40.8 40.8 ...\n",
      " $ passenger_count  : num  1 1 2 1 1 1 1 1 1 2 ...\n",
      "'data.frame':\t9914 obs. of  6 variables:\n",
      " $ pickup_datetime  : Factor w/ 1753 levels \"2009-01-01 11:04:24 UTC\",..: 1648 1648 747 1041 1041 1041 744 744 744 1384 ...\n",
      " $ pickup_longitude : num  -74 -74 -74 -74 -74 ...\n",
      " $ pickup_latitude  : num  40.8 40.7 40.8 40.8 40.8 ...\n",
      " $ dropoff_longitude: num  -74 -74 -74 -74 -74 ...\n",
      " $ dropoff_latitude : num  40.7 40.7 40.7 40.8 40.7 ...\n",
      " $ passenger_count  : int  1 1 1 1 1 1 1 1 1 1 ...\n"
     ]
    },
    {
     "data": {
      "text/plain": [
       "  fare_amount                   pickup_datetime  pickup_longitude\n",
       " 6.5    :  759   2009-04-18 20:44:00 UTC:    2   Min.   :-74.44  \n",
       " 4.5    :  671   2009-05-10 17:57:00 UTC:    2   1st Qu.:-73.99  \n",
       " 8.5    :  630   2009-07-01 15:55:00 UTC:    2   Median :-73.98  \n",
       " 5.3    :  475   2009-07-28 13:37:00 UTC:    2   Mean   :-72.46  \n",
       " 4.9    :  464   2009-12-10 15:37:00 UTC:    2   3rd Qu.:-73.97  \n",
       " (Other):13044   2009-12-11 11:56:00 UTC:    2   Max.   : 40.77  \n",
       " NA's   :   24   (Other)                :16055                   \n",
       " pickup_latitude  dropoff_longitude dropoff_latitude passenger_count   \n",
       " Min.   :-74.01   Min.   :-74.43    Min.   :-74.01   Min.   :   0.000  \n",
       " 1st Qu.: 40.73   1st Qu.:-73.99    1st Qu.: 40.73   1st Qu.:   1.000  \n",
       " Median : 40.75   Median :-73.98    Median : 40.75   Median :   1.000  \n",
       " Mean   : 39.91   Mean   :-72.46    Mean   : 39.90   Mean   :   2.625  \n",
       " 3rd Qu.: 40.77   3rd Qu.:-73.96    3rd Qu.: 40.77   3rd Qu.:   2.000  \n",
       " Max.   :401.08   Max.   : 40.80    Max.   : 41.37   Max.   :5345.000  \n",
       "                                                     NA's   :55        "
      ]
     },
     "metadata": {},
     "output_type": "display_data"
    },
    {
     "data": {
      "text/plain": [
       "                pickup_datetime pickup_longitude pickup_latitude\n",
       " 2011-12-13 22:00:00 UTC: 270   Min.   :-74.25   Min.   :40.57  \n",
       " 2013-09-25 22:00:00 UTC: 251   1st Qu.:-73.99   1st Qu.:40.74  \n",
       " 2012-11-20 21:54:00 UTC: 246   Median :-73.98   Median :40.75  \n",
       " 2014-07-21 18:19:00 UTC: 243   Mean   :-73.97   Mean   :40.75  \n",
       " 2010-08-27 18:45:00 UTC: 235   3rd Qu.:-73.97   3rd Qu.:40.77  \n",
       " 2011-06-01 07:37:00 UTC: 227   Max.   :-72.99   Max.   :41.71  \n",
       " (Other)                :8442                                   \n",
       " dropoff_longitude dropoff_latitude passenger_count\n",
       " Min.   :-74.26    Min.   :40.57    Min.   :1.000  \n",
       " 1st Qu.:-73.99    1st Qu.:40.74    1st Qu.:1.000  \n",
       " Median :-73.98    Median :40.75    Median :1.000  \n",
       " Mean   :-73.97    Mean   :40.75    Mean   :1.671  \n",
       " 3rd Qu.:-73.96    3rd Qu.:40.77    3rd Qu.:2.000  \n",
       " Max.   :-72.99    Max.   :41.70    Max.   :6.000  \n",
       "                                                   "
      ]
     },
     "metadata": {},
     "output_type": "display_data"
    },
    {
     "data": {
      "text/html": [
       "<table>\n",
       "<thead><tr><th scope=col>fare_amount</th><th scope=col>pickup_datetime</th><th scope=col>pickup_longitude</th><th scope=col>pickup_latitude</th><th scope=col>dropoff_longitude</th><th scope=col>dropoff_latitude</th><th scope=col>passenger_count</th></tr></thead>\n",
       "<tbody>\n",
       "\t<tr><td>4.5                    </td><td>2009-06-15 17:26:21 UTC</td><td>-73.84431              </td><td>40.72132               </td><td>-73.84161              </td><td>40.71228               </td><td>1                      </td></tr>\n",
       "\t<tr><td>16.9                   </td><td>2010-01-05 16:52:16 UTC</td><td>-74.01605              </td><td>40.71130               </td><td>-73.97927              </td><td>40.78200               </td><td>1                      </td></tr>\n",
       "\t<tr><td>5.7                    </td><td>2011-08-18 00:35:00 UTC</td><td>-73.98274              </td><td>40.76127               </td><td>-73.99124              </td><td>40.75056               </td><td>2                      </td></tr>\n",
       "\t<tr><td>7.7                    </td><td>2012-04-21 04:30:42 UTC</td><td>-73.98713              </td><td>40.73314               </td><td>-73.99157              </td><td>40.75809               </td><td>1                      </td></tr>\n",
       "\t<tr><td>5.3                    </td><td>2010-03-09 07:51:00 UTC</td><td>-73.96810              </td><td>40.76801               </td><td>-73.95665              </td><td>40.78376               </td><td>1                      </td></tr>\n",
       "</tbody>\n",
       "</table>\n"
      ],
      "text/latex": [
       "\\begin{tabular}{r|lllllll}\n",
       " fare\\_amount & pickup\\_datetime & pickup\\_longitude & pickup\\_latitude & dropoff\\_longitude & dropoff\\_latitude & passenger\\_count\\\\\n",
       "\\hline\n",
       "\t 4.5                     & 2009-06-15 17:26:21 UTC & -73.84431               & 40.72132                & -73.84161               & 40.71228                & 1                      \\\\\n",
       "\t 16.9                    & 2010-01-05 16:52:16 UTC & -74.01605               & 40.71130                & -73.97927               & 40.78200                & 1                      \\\\\n",
       "\t 5.7                     & 2011-08-18 00:35:00 UTC & -73.98274               & 40.76127                & -73.99124               & 40.75056                & 2                      \\\\\n",
       "\t 7.7                     & 2012-04-21 04:30:42 UTC & -73.98713               & 40.73314                & -73.99157               & 40.75809                & 1                      \\\\\n",
       "\t 5.3                     & 2010-03-09 07:51:00 UTC & -73.96810               & 40.76801                & -73.95665               & 40.78376                & 1                      \\\\\n",
       "\\end{tabular}\n"
      ],
      "text/markdown": [
       "\n",
       "| fare_amount | pickup_datetime | pickup_longitude | pickup_latitude | dropoff_longitude | dropoff_latitude | passenger_count |\n",
       "|---|---|---|---|---|---|---|\n",
       "| 4.5                     | 2009-06-15 17:26:21 UTC | -73.84431               | 40.72132                | -73.84161               | 40.71228                | 1                       |\n",
       "| 16.9                    | 2010-01-05 16:52:16 UTC | -74.01605               | 40.71130                | -73.97927               | 40.78200                | 1                       |\n",
       "| 5.7                     | 2011-08-18 00:35:00 UTC | -73.98274               | 40.76127                | -73.99124               | 40.75056                | 2                       |\n",
       "| 7.7                     | 2012-04-21 04:30:42 UTC | -73.98713               | 40.73314                | -73.99157               | 40.75809                | 1                       |\n",
       "| 5.3                     | 2010-03-09 07:51:00 UTC | -73.96810               | 40.76801                | -73.95665               | 40.78376                | 1                       |\n",
       "\n"
      ],
      "text/plain": [
       "  fare_amount pickup_datetime         pickup_longitude pickup_latitude\n",
       "1 4.5         2009-06-15 17:26:21 UTC -73.84431        40.72132       \n",
       "2 16.9        2010-01-05 16:52:16 UTC -74.01605        40.71130       \n",
       "3 5.7         2011-08-18 00:35:00 UTC -73.98274        40.76127       \n",
       "4 7.7         2012-04-21 04:30:42 UTC -73.98713        40.73314       \n",
       "5 5.3         2010-03-09 07:51:00 UTC -73.96810        40.76801       \n",
       "  dropoff_longitude dropoff_latitude passenger_count\n",
       "1 -73.84161         40.71228         1              \n",
       "2 -73.97927         40.78200         1              \n",
       "3 -73.99124         40.75056         2              \n",
       "4 -73.99157         40.75809         1              \n",
       "5 -73.95665         40.78376         1              "
      ]
     },
     "metadata": {},
     "output_type": "display_data"
    },
    {
     "data": {
      "text/html": [
       "<table>\n",
       "<thead><tr><th scope=col>pickup_datetime</th><th scope=col>pickup_longitude</th><th scope=col>pickup_latitude</th><th scope=col>dropoff_longitude</th><th scope=col>dropoff_latitude</th><th scope=col>passenger_count</th></tr></thead>\n",
       "<tbody>\n",
       "\t<tr><td>2015-01-27 13:08:24 UTC</td><td>-73.97332              </td><td>40.76381               </td><td>-73.98143              </td><td>40.74384               </td><td>1                      </td></tr>\n",
       "\t<tr><td>2015-01-27 13:08:24 UTC</td><td>-73.98686              </td><td>40.71938               </td><td>-73.99889              </td><td>40.73920               </td><td>1                      </td></tr>\n",
       "\t<tr><td>2011-10-08 11:53:44 UTC</td><td>-73.98252              </td><td>40.75126               </td><td>-73.97965              </td><td>40.74614               </td><td>1                      </td></tr>\n",
       "\t<tr><td>2012-12-01 21:12:12 UTC</td><td>-73.98116              </td><td>40.76781               </td><td>-73.99045              </td><td>40.75164               </td><td>1                      </td></tr>\n",
       "\t<tr><td>2012-12-01 21:12:12 UTC</td><td>-73.96605              </td><td>40.78977               </td><td>-73.98856              </td><td>40.74443               </td><td>1                      </td></tr>\n",
       "</tbody>\n",
       "</table>\n"
      ],
      "text/latex": [
       "\\begin{tabular}{r|llllll}\n",
       " pickup\\_datetime & pickup\\_longitude & pickup\\_latitude & dropoff\\_longitude & dropoff\\_latitude & passenger\\_count\\\\\n",
       "\\hline\n",
       "\t 2015-01-27 13:08:24 UTC & -73.97332               & 40.76381                & -73.98143               & 40.74384                & 1                      \\\\\n",
       "\t 2015-01-27 13:08:24 UTC & -73.98686               & 40.71938                & -73.99889               & 40.73920                & 1                      \\\\\n",
       "\t 2011-10-08 11:53:44 UTC & -73.98252               & 40.75126                & -73.97965               & 40.74614                & 1                      \\\\\n",
       "\t 2012-12-01 21:12:12 UTC & -73.98116               & 40.76781                & -73.99045               & 40.75164                & 1                      \\\\\n",
       "\t 2012-12-01 21:12:12 UTC & -73.96605               & 40.78977                & -73.98856               & 40.74443                & 1                      \\\\\n",
       "\\end{tabular}\n"
      ],
      "text/markdown": [
       "\n",
       "| pickup_datetime | pickup_longitude | pickup_latitude | dropoff_longitude | dropoff_latitude | passenger_count |\n",
       "|---|---|---|---|---|---|\n",
       "| 2015-01-27 13:08:24 UTC | -73.97332               | 40.76381                | -73.98143               | 40.74384                | 1                       |\n",
       "| 2015-01-27 13:08:24 UTC | -73.98686               | 40.71938                | -73.99889               | 40.73920                | 1                       |\n",
       "| 2011-10-08 11:53:44 UTC | -73.98252               | 40.75126                | -73.97965               | 40.74614                | 1                       |\n",
       "| 2012-12-01 21:12:12 UTC | -73.98116               | 40.76781                | -73.99045               | 40.75164                | 1                       |\n",
       "| 2012-12-01 21:12:12 UTC | -73.96605               | 40.78977                | -73.98856               | 40.74443                | 1                       |\n",
       "\n"
      ],
      "text/plain": [
       "  pickup_datetime         pickup_longitude pickup_latitude dropoff_longitude\n",
       "1 2015-01-27 13:08:24 UTC -73.97332        40.76381        -73.98143        \n",
       "2 2015-01-27 13:08:24 UTC -73.98686        40.71938        -73.99889        \n",
       "3 2011-10-08 11:53:44 UTC -73.98252        40.75126        -73.97965        \n",
       "4 2012-12-01 21:12:12 UTC -73.98116        40.76781        -73.99045        \n",
       "5 2012-12-01 21:12:12 UTC -73.96605        40.78977        -73.98856        \n",
       "  dropoff_latitude passenger_count\n",
       "1 40.74384         1              \n",
       "2 40.73920         1              \n",
       "3 40.74614         1              \n",
       "4 40.75164         1              \n",
       "5 40.74443         1              "
      ]
     },
     "metadata": {},
     "output_type": "display_data"
    }
   ],
   "source": [
    "# Structure of data\n",
    "str(train)\n",
    "str(test)\n",
    "summary(train)\n",
    "summary(test)\n",
    "head(train,5)\n",
    "head(test,5)"
   ]
  },
  {
   "cell_type": "code",
   "execution_count": 12,
   "metadata": {},
   "outputs": [],
   "source": [
    "# Changing the data types of variables\n",
    "\n",
    "train$fare_amount = as.numeric(as.character(train$fare_amount))\n",
    "train$passenger_count=round(train$passenger_count)"
   ]
  },
  {
   "cell_type": "code",
   "execution_count": 13,
   "metadata": {},
   "outputs": [
    {
     "data": {
      "text/html": [
       "<table>\n",
       "<thead><tr><th></th><th scope=col>fare_amount</th><th scope=col>pickup_datetime</th><th scope=col>pickup_longitude</th><th scope=col>pickup_latitude</th><th scope=col>dropoff_longitude</th><th scope=col>dropoff_latitude</th><th scope=col>passenger_count</th></tr></thead>\n",
       "<tbody>\n",
       "\t<tr><th scope=row>2040</th><td>-2.90                  </td><td>2010-03-09 23:37:10 UTC</td><td>-73.78945              </td><td>40.64350               </td><td>-73.78866              </td><td>40.64195               </td><td>1                      </td></tr>\n",
       "\t<tr><th scope=row>2487</th><td>-2.50                  </td><td>2015-03-22 05:14:27 UTC</td><td>-74.00003              </td><td>40.72063               </td><td>-73.99981              </td><td>40.72054               </td><td>1                      </td></tr>\n",
       "\t<tr><th scope=row>2781</th><td> 0.01                  </td><td>2015-05-01 15:38:41 UTC</td><td>-73.93904              </td><td>40.71396               </td><td>-73.94167              </td><td>40.71400               </td><td>1                      </td></tr>\n",
       "\t<tr><th scope=row>10003</th><td> 0.00                  </td><td>2010-02-15 14:26:01 UTC</td><td>-73.98712              </td><td>40.73881               </td><td>-74.00591              </td><td>40.71396               </td><td>1                      </td></tr>\n",
       "\t<tr><th scope=row>13033</th><td>-3.00                  </td><td>2013-08-30 08:57:10 UTC</td><td>-73.99506              </td><td>40.74076               </td><td>-73.99589              </td><td>40.74136               </td><td>4                      </td></tr>\n",
       "</tbody>\n",
       "</table>\n"
      ],
      "text/latex": [
       "\\begin{tabular}{r|lllllll}\n",
       "  & fare\\_amount & pickup\\_datetime & pickup\\_longitude & pickup\\_latitude & dropoff\\_longitude & dropoff\\_latitude & passenger\\_count\\\\\n",
       "\\hline\n",
       "\t2040 & -2.90                   & 2010-03-09 23:37:10 UTC & -73.78945               & 40.64350                & -73.78866               & 40.64195                & 1                      \\\\\n",
       "\t2487 & -2.50                   & 2015-03-22 05:14:27 UTC & -74.00003               & 40.72063                & -73.99981               & 40.72054                & 1                      \\\\\n",
       "\t2781 &  0.01                   & 2015-05-01 15:38:41 UTC & -73.93904               & 40.71396                & -73.94167               & 40.71400                & 1                      \\\\\n",
       "\t10003 &  0.00                   & 2010-02-15 14:26:01 UTC & -73.98712               & 40.73881                & -74.00591               & 40.71396                & 1                      \\\\\n",
       "\t13033 & -3.00                   & 2013-08-30 08:57:10 UTC & -73.99506               & 40.74076                & -73.99589               & 40.74136                & 4                      \\\\\n",
       "\\end{tabular}\n"
      ],
      "text/markdown": [
       "\n",
       "| <!--/--> | fare_amount | pickup_datetime | pickup_longitude | pickup_latitude | dropoff_longitude | dropoff_latitude | passenger_count |\n",
       "|---|---|---|---|---|---|---|---|\n",
       "| 2040 | -2.90                   | 2010-03-09 23:37:10 UTC | -73.78945               | 40.64350                | -73.78866               | 40.64195                | 1                       |\n",
       "| 2487 | -2.50                   | 2015-03-22 05:14:27 UTC | -74.00003               | 40.72063                | -73.99981               | 40.72054                | 1                       |\n",
       "| 2781 |  0.01                   | 2015-05-01 15:38:41 UTC | -73.93904               | 40.71396                | -73.94167               | 40.71400                | 1                       |\n",
       "| 10003 |  0.00                   | 2010-02-15 14:26:01 UTC | -73.98712               | 40.73881                | -74.00591               | 40.71396                | 1                       |\n",
       "| 13033 | -3.00                   | 2013-08-30 08:57:10 UTC | -73.99506               | 40.74076                | -73.99589               | 40.74136                | 4                       |\n",
       "\n"
      ],
      "text/plain": [
       "      fare_amount pickup_datetime         pickup_longitude pickup_latitude\n",
       "2040  -2.90       2010-03-09 23:37:10 UTC -73.78945        40.64350       \n",
       "2487  -2.50       2015-03-22 05:14:27 UTC -74.00003        40.72063       \n",
       "2781   0.01       2015-05-01 15:38:41 UTC -73.93904        40.71396       \n",
       "10003  0.00       2010-02-15 14:26:01 UTC -73.98712        40.73881       \n",
       "13033 -3.00       2013-08-30 08:57:10 UTC -73.99506        40.74076       \n",
       "      dropoff_longitude dropoff_latitude passenger_count\n",
       "2040  -73.78866         40.64195         1              \n",
       "2487  -73.99981         40.72054         1              \n",
       "2781  -73.94167         40.71400         1              \n",
       "10003 -74.00591         40.71396         1              \n",
       "13033 -73.99589         40.74136         4              "
      ]
     },
     "metadata": {},
     "output_type": "display_data"
    },
    {
     "data": {
      "text/html": [
       "5"
      ],
      "text/latex": [
       "5"
      ],
      "text/markdown": [
       "5"
      ],
      "text/plain": [
       "[1] 5"
      ]
     },
     "metadata": {},
     "output_type": "display_data"
    }
   ],
   "source": [
    "# 1.Fare amount has a negative value, which doesn't make sense. A price amount cannot be -ve and also cannot be 0. So we will remove these fields.\n",
    "\n",
    "train[which(train$fare_amount < 1 ),]\n",
    "nrow(train[which(train$fare_amount < 1 ),])\n",
    "train = train[-which(train$fare_amount < 1 ),]"
   ]
  },
  {
   "cell_type": "code",
   "execution_count": 14,
   "metadata": {},
   "outputs": [
    {
     "name": "stdout",
     "output_type": "stream",
     "text": [
      "[1] \"passenger_count above  4 1367\"\n",
      "[1] \"passenger_count above  5 322\"\n",
      "[1] \"passenger_count above  6 20\"\n",
      "[1] \"passenger_count above  7 20\"\n",
      "[1] \"passenger_count above  8 20\"\n",
      "[1] \"passenger_count above  9 20\"\n",
      "[1] \"passenger_count above  10 20\"\n",
      "[1] \"passenger_count above  11 20\"\n"
     ]
    }
   ],
   "source": [
    "#2.Passenger_count variable\n",
    "\n",
    "for (i in seq(4,11,by=1)){\n",
    "  print(paste('passenger_count above ' ,i,nrow(train[which(train$passenger_count > i ),])))\n",
    "  }"
   ]
  },
  {
   "cell_type": "code",
   "execution_count": 15,
   "metadata": {},
   "outputs": [
    {
     "data": {
      "text/html": [
       "<table>\n",
       "<thead><tr><th></th><th scope=col>fare_amount</th><th scope=col>pickup_datetime</th><th scope=col>pickup_longitude</th><th scope=col>pickup_latitude</th><th scope=col>dropoff_longitude</th><th scope=col>dropoff_latitude</th><th scope=col>passenger_count</th></tr></thead>\n",
       "<tbody>\n",
       "\t<tr><th scope=row>234</th><td> 8.5                   </td><td>2011-07-24 01:14:35 UTC</td><td>  0.00000              </td><td> 0.00000               </td><td>  0.00000              </td><td> 0.00000               </td><td> 236                   </td></tr>\n",
       "\t<tr><th scope=row>264</th><td> 4.9                   </td><td>2010-07-12 09:44:33 UTC</td><td>-73.98325              </td><td>40.73465               </td><td>-73.99128              </td><td>40.73892               </td><td> 456                   </td></tr>\n",
       "\t<tr><th scope=row>294</th><td> 6.1                   </td><td>2011-01-18 23:48:00 UTC</td><td>-74.00664              </td><td>40.73893               </td><td>-74.01083              </td><td>40.71791               </td><td>5334                   </td></tr>\n",
       "\t<tr><th scope=row>357</th><td> 8.5                   </td><td>2013-06-18 10:27:05 UTC</td><td>-73.99211              </td><td>40.76420               </td><td>-73.97300              </td><td>40.76270               </td><td> 535                   </td></tr>\n",
       "\t<tr><th scope=row>387</th><td> 8.1                   </td><td>2009-08-21 19:35:05 UTC</td><td>-73.96085              </td><td>40.76156               </td><td>-73.97634              </td><td>40.74836               </td><td> 354                   </td></tr>\n",
       "\t<tr><th scope=row>414</th><td>  NA                   </td><td>2013-09-12 11:32:00 UTC</td><td>-73.98206              </td><td>40.77271               </td><td>-73.95621              </td><td>40.77178               </td><td>  55                   </td></tr>\n",
       "\t<tr><th scope=row>972</th><td>10.1                   </td><td>2010-11-21 01:41:00 UTC</td><td>-74.00450              </td><td>40.74214               </td><td>-73.99433              </td><td>40.72041               </td><td> 554                   </td></tr>\n",
       "\t<tr><th scope=row>1008</th><td> 3.7                   </td><td>2010-12-14 14:46:00 UTC</td><td>-73.96916              </td><td>40.75900               </td><td>-73.96876              </td><td>40.76462               </td><td>  53                   </td></tr>\n",
       "\t<tr><th scope=row>1044</th><td> 5.7                   </td><td>2012-08-22 22:08:29 UTC</td><td>-73.97357              </td><td>40.76018               </td><td>-73.95356              </td><td>40.76739               </td><td>  35                   </td></tr>\n",
       "\t<tr><th scope=row>1108</th><td> 4.9                   </td><td>2009-08-08 21:50:50 UTC</td><td>-73.98898              </td><td>40.72107               </td><td>-73.98237              </td><td>40.73206               </td><td> 345                   </td></tr>\n",
       "\t<tr><th scope=row>1147</th><td> 8.0                   </td><td>2014-03-27 08:05:01 UTC</td><td>-73.99110              </td><td>40.77065               </td><td>-73.97693              </td><td>40.79007               </td><td>5345                   </td></tr>\n",
       "\t<tr><th scope=row>1201</th><td> 9.7                   </td><td>2011-08-16 09:29:00 UTC</td><td>-73.98049              </td><td>40.74161               </td><td>-73.98062              </td><td>40.74687               </td><td> 536                   </td></tr>\n",
       "\t<tr><th scope=row>1243</th><td> 5.3                   </td><td>2011-10-16 00:22:00 UTC</td><td>-73.98109              </td><td>40.73816               </td><td>-73.99059              </td><td>40.74010               </td><td>  43                   </td></tr>\n",
       "\t<tr><th scope=row>8407</th><td> 6.9                   </td><td>2010-08-25 11:41:00 UTC</td><td>  0.00000              </td><td> 0.00000               </td><td>  0.00000              </td><td> 0.00000               </td><td>  53                   </td></tr>\n",
       "\t<tr><th scope=row>8446</th><td> 5.7                   </td><td>2009-03-28 22:00:00 UTC</td><td>-73.98241              </td><td>40.75132               </td><td>-73.97129              </td><td>40.74850               </td><td>  58                   </td></tr>\n",
       "\t<tr><th scope=row>8507</th><td>11.3                   </td><td>2010-05-23 20:06:37 UTC</td><td>-73.98542              </td><td>40.73847               </td><td>-74.00170              </td><td>40.70776               </td><td> 537                   </td></tr>\n",
       "\t<tr><th scope=row>8572</th><td>12.5                   </td><td>2011-12-03 03:21:00 UTC</td><td>-73.99372              </td><td>40.76204               </td><td>-73.97753              </td><td>40.73402               </td><td>  87                   </td></tr>\n",
       "\t<tr><th scope=row>8632</th><td>20.0                   </td><td>2012-12-10 22:28:00 UTC</td><td>-73.95544              </td><td>40.67023               </td><td>-74.00480              </td><td>40.73148               </td><td>  43                   </td></tr>\n",
       "\t<tr><th scope=row>8716</th><td> 4.5                   </td><td>2009-09-04 09:14:03 UTC</td><td>-73.97752              </td><td>40.75848               </td><td>-73.98325              </td><td>40.74984               </td><td> 531                   </td></tr>\n",
       "\t<tr><th scope=row>8986</th><td> 8.5                   </td><td>2015-01-14 15:10:21 UTC</td><td>-73.95544              </td><td>40.78761               </td><td>-73.96556              </td><td>40.79869               </td><td> 557                   </td></tr>\n",
       "</tbody>\n",
       "</table>\n"
      ],
      "text/latex": [
       "\\begin{tabular}{r|lllllll}\n",
       "  & fare\\_amount & pickup\\_datetime & pickup\\_longitude & pickup\\_latitude & dropoff\\_longitude & dropoff\\_latitude & passenger\\_count\\\\\n",
       "\\hline\n",
       "\t234 &  8.5                    & 2011-07-24 01:14:35 UTC &   0.00000               &  0.00000                &   0.00000               &  0.00000                &  236                   \\\\\n",
       "\t264 &  4.9                    & 2010-07-12 09:44:33 UTC & -73.98325               & 40.73465                & -73.99128               & 40.73892                &  456                   \\\\\n",
       "\t294 &  6.1                    & 2011-01-18 23:48:00 UTC & -74.00664               & 40.73893                & -74.01083               & 40.71791                & 5334                   \\\\\n",
       "\t357 &  8.5                    & 2013-06-18 10:27:05 UTC & -73.99211               & 40.76420                & -73.97300               & 40.76270                &  535                   \\\\\n",
       "\t387 &  8.1                    & 2009-08-21 19:35:05 UTC & -73.96085               & 40.76156                & -73.97634               & 40.74836                &  354                   \\\\\n",
       "\t414 &   NA                    & 2013-09-12 11:32:00 UTC & -73.98206               & 40.77271                & -73.95621               & 40.77178                &   55                   \\\\\n",
       "\t972 & 10.1                    & 2010-11-21 01:41:00 UTC & -74.00450               & 40.74214                & -73.99433               & 40.72041                &  554                   \\\\\n",
       "\t1008 &  3.7                    & 2010-12-14 14:46:00 UTC & -73.96916               & 40.75900                & -73.96876               & 40.76462                &   53                   \\\\\n",
       "\t1044 &  5.7                    & 2012-08-22 22:08:29 UTC & -73.97357               & 40.76018                & -73.95356               & 40.76739                &   35                   \\\\\n",
       "\t1108 &  4.9                    & 2009-08-08 21:50:50 UTC & -73.98898               & 40.72107                & -73.98237               & 40.73206                &  345                   \\\\\n",
       "\t1147 &  8.0                    & 2014-03-27 08:05:01 UTC & -73.99110               & 40.77065                & -73.97693               & 40.79007                & 5345                   \\\\\n",
       "\t1201 &  9.7                    & 2011-08-16 09:29:00 UTC & -73.98049               & 40.74161                & -73.98062               & 40.74687                &  536                   \\\\\n",
       "\t1243 &  5.3                    & 2011-10-16 00:22:00 UTC & -73.98109               & 40.73816                & -73.99059               & 40.74010                &   43                   \\\\\n",
       "\t8407 &  6.9                    & 2010-08-25 11:41:00 UTC &   0.00000               &  0.00000                &   0.00000               &  0.00000                &   53                   \\\\\n",
       "\t8446 &  5.7                    & 2009-03-28 22:00:00 UTC & -73.98241               & 40.75132                & -73.97129               & 40.74850                &   58                   \\\\\n",
       "\t8507 & 11.3                    & 2010-05-23 20:06:37 UTC & -73.98542               & 40.73847                & -74.00170               & 40.70776                &  537                   \\\\\n",
       "\t8572 & 12.5                    & 2011-12-03 03:21:00 UTC & -73.99372               & 40.76204                & -73.97753               & 40.73402                &   87                   \\\\\n",
       "\t8632 & 20.0                    & 2012-12-10 22:28:00 UTC & -73.95544               & 40.67023                & -74.00480               & 40.73148                &   43                   \\\\\n",
       "\t8716 &  4.5                    & 2009-09-04 09:14:03 UTC & -73.97752               & 40.75848                & -73.98325               & 40.74984                &  531                   \\\\\n",
       "\t8986 &  8.5                    & 2015-01-14 15:10:21 UTC & -73.95544               & 40.78761                & -73.96556               & 40.79869                &  557                   \\\\\n",
       "\\end{tabular}\n"
      ],
      "text/markdown": [
       "\n",
       "| <!--/--> | fare_amount | pickup_datetime | pickup_longitude | pickup_latitude | dropoff_longitude | dropoff_latitude | passenger_count |\n",
       "|---|---|---|---|---|---|---|---|\n",
       "| 234 |  8.5                    | 2011-07-24 01:14:35 UTC |   0.00000               |  0.00000                |   0.00000               |  0.00000                |  236                    |\n",
       "| 264 |  4.9                    | 2010-07-12 09:44:33 UTC | -73.98325               | 40.73465                | -73.99128               | 40.73892                |  456                    |\n",
       "| 294 |  6.1                    | 2011-01-18 23:48:00 UTC | -74.00664               | 40.73893                | -74.01083               | 40.71791                | 5334                    |\n",
       "| 357 |  8.5                    | 2013-06-18 10:27:05 UTC | -73.99211               | 40.76420                | -73.97300               | 40.76270                |  535                    |\n",
       "| 387 |  8.1                    | 2009-08-21 19:35:05 UTC | -73.96085               | 40.76156                | -73.97634               | 40.74836                |  354                    |\n",
       "| 414 |   NA                    | 2013-09-12 11:32:00 UTC | -73.98206               | 40.77271                | -73.95621               | 40.77178                |   55                    |\n",
       "| 972 | 10.1                    | 2010-11-21 01:41:00 UTC | -74.00450               | 40.74214                | -73.99433               | 40.72041                |  554                    |\n",
       "| 1008 |  3.7                    | 2010-12-14 14:46:00 UTC | -73.96916               | 40.75900                | -73.96876               | 40.76462                |   53                    |\n",
       "| 1044 |  5.7                    | 2012-08-22 22:08:29 UTC | -73.97357               | 40.76018                | -73.95356               | 40.76739                |   35                    |\n",
       "| 1108 |  4.9                    | 2009-08-08 21:50:50 UTC | -73.98898               | 40.72107                | -73.98237               | 40.73206                |  345                    |\n",
       "| 1147 |  8.0                    | 2014-03-27 08:05:01 UTC | -73.99110               | 40.77065                | -73.97693               | 40.79007                | 5345                    |\n",
       "| 1201 |  9.7                    | 2011-08-16 09:29:00 UTC | -73.98049               | 40.74161                | -73.98062               | 40.74687                |  536                    |\n",
       "| 1243 |  5.3                    | 2011-10-16 00:22:00 UTC | -73.98109               | 40.73816                | -73.99059               | 40.74010                |   43                    |\n",
       "| 8407 |  6.9                    | 2010-08-25 11:41:00 UTC |   0.00000               |  0.00000                |   0.00000               |  0.00000                |   53                    |\n",
       "| 8446 |  5.7                    | 2009-03-28 22:00:00 UTC | -73.98241               | 40.75132                | -73.97129               | 40.74850                |   58                    |\n",
       "| 8507 | 11.3                    | 2010-05-23 20:06:37 UTC | -73.98542               | 40.73847                | -74.00170               | 40.70776                |  537                    |\n",
       "| 8572 | 12.5                    | 2011-12-03 03:21:00 UTC | -73.99372               | 40.76204                | -73.97753               | 40.73402                |   87                    |\n",
       "| 8632 | 20.0                    | 2012-12-10 22:28:00 UTC | -73.95544               | 40.67023                | -74.00480               | 40.73148                |   43                    |\n",
       "| 8716 |  4.5                    | 2009-09-04 09:14:03 UTC | -73.97752               | 40.75848                | -73.98325               | 40.74984                |  531                    |\n",
       "| 8986 |  8.5                    | 2015-01-14 15:10:21 UTC | -73.95544               | 40.78761                | -73.96556               | 40.79869                |  557                    |\n",
       "\n"
      ],
      "text/plain": [
       "     fare_amount pickup_datetime         pickup_longitude pickup_latitude\n",
       "234   8.5        2011-07-24 01:14:35 UTC   0.00000         0.00000       \n",
       "264   4.9        2010-07-12 09:44:33 UTC -73.98325        40.73465       \n",
       "294   6.1        2011-01-18 23:48:00 UTC -74.00664        40.73893       \n",
       "357   8.5        2013-06-18 10:27:05 UTC -73.99211        40.76420       \n",
       "387   8.1        2009-08-21 19:35:05 UTC -73.96085        40.76156       \n",
       "414    NA        2013-09-12 11:32:00 UTC -73.98206        40.77271       \n",
       "972  10.1        2010-11-21 01:41:00 UTC -74.00450        40.74214       \n",
       "1008  3.7        2010-12-14 14:46:00 UTC -73.96916        40.75900       \n",
       "1044  5.7        2012-08-22 22:08:29 UTC -73.97357        40.76018       \n",
       "1108  4.9        2009-08-08 21:50:50 UTC -73.98898        40.72107       \n",
       "1147  8.0        2014-03-27 08:05:01 UTC -73.99110        40.77065       \n",
       "1201  9.7        2011-08-16 09:29:00 UTC -73.98049        40.74161       \n",
       "1243  5.3        2011-10-16 00:22:00 UTC -73.98109        40.73816       \n",
       "8407  6.9        2010-08-25 11:41:00 UTC   0.00000         0.00000       \n",
       "8446  5.7        2009-03-28 22:00:00 UTC -73.98241        40.75132       \n",
       "8507 11.3        2010-05-23 20:06:37 UTC -73.98542        40.73847       \n",
       "8572 12.5        2011-12-03 03:21:00 UTC -73.99372        40.76204       \n",
       "8632 20.0        2012-12-10 22:28:00 UTC -73.95544        40.67023       \n",
       "8716  4.5        2009-09-04 09:14:03 UTC -73.97752        40.75848       \n",
       "8986  8.5        2015-01-14 15:10:21 UTC -73.95544        40.78761       \n",
       "     dropoff_longitude dropoff_latitude passenger_count\n",
       "234    0.00000          0.00000          236           \n",
       "264  -73.99128         40.73892          456           \n",
       "294  -74.01083         40.71791         5334           \n",
       "357  -73.97300         40.76270          535           \n",
       "387  -73.97634         40.74836          354           \n",
       "414  -73.95621         40.77178           55           \n",
       "972  -73.99433         40.72041          554           \n",
       "1008 -73.96876         40.76462           53           \n",
       "1044 -73.95356         40.76739           35           \n",
       "1108 -73.98237         40.73206          345           \n",
       "1147 -73.97693         40.79007         5345           \n",
       "1201 -73.98062         40.74687          536           \n",
       "1243 -73.99059         40.74010           43           \n",
       "8407   0.00000          0.00000           53           \n",
       "8446 -73.97129         40.74850           58           \n",
       "8507 -74.00170         40.70776          537           \n",
       "8572 -73.97753         40.73402           87           \n",
       "8632 -74.00480         40.73148           43           \n",
       "8716 -73.98325         40.74984          531           \n",
       "8986 -73.96556         40.79869          557           "
      ]
     },
     "metadata": {},
     "output_type": "display_data"
    }
   ],
   "source": [
    "# so 20 observations of passenger_count is consistenly above from 6,7,8,9,10 passenger_counts, let's check them.\n",
    "\n",
    "train[which(train$passenger_count > 6 ),]"
   ]
  },
  {
   "cell_type": "code",
   "execution_count": 16,
   "metadata": {},
   "outputs": [
    {
     "data": {
      "text/html": [
       "<table>\n",
       "<thead><tr><th></th><th scope=col>fare_amount</th><th scope=col>pickup_datetime</th><th scope=col>pickup_longitude</th><th scope=col>pickup_latitude</th><th scope=col>dropoff_longitude</th><th scope=col>dropoff_latitude</th><th scope=col>passenger_count</th></tr></thead>\n",
       "<tbody>\n",
       "\t<tr><th scope=row>315</th><td>34.0                   </td><td>2015-06-02 23:16:15 UTC</td><td>-73.97490              </td><td>40.75109               </td><td>-73.90855              </td><td>40.88188               </td><td>0                      </td></tr>\n",
       "\t<tr><th scope=row>567</th><td> 4.9                   </td><td>2012-01-28 21:33:18 UTC</td><td>-73.95532              </td><td>40.78284               </td><td>-73.95580              </td><td>40.77367               </td><td>0                      </td></tr>\n",
       "\t<tr><th scope=row>679</th><td> 6.5                   </td><td>2012-02-27 07:24:20 UTC</td><td>-73.98340              </td><td>40.73818               </td><td>-73.97140              </td><td>40.75802               </td><td>0                      </td></tr>\n",
       "\t<tr><th scope=row>1161</th><td>13.3                   </td><td>2011-05-25 23:58:48 UTC</td><td>-73.99836              </td><td>40.74035               </td><td>-73.94646              </td><td>40.77735               </td><td>0                      </td></tr>\n",
       "\t<tr><th scope=row>1936</th><td>10.1                   </td><td>2011-10-23 11:09:28 UTC</td><td>-73.97140              </td><td>40.79500               </td><td>-73.96790              </td><td>40.76860               </td><td>0                      </td></tr>\n",
       "\t<tr><th scope=row>2201</th><td> 8.1                   </td><td>2011-05-23 16:54:19 UTC</td><td>-73.98801              </td><td>40.74830               </td><td>-74.00518              </td><td>40.73873               </td><td>0                      </td></tr>\n",
       "\t<tr><th scope=row>2426</th><td> 8.9                   </td><td>2011-11-25 22:47:33 UTC</td><td>-73.99990              </td><td>40.73860               </td><td>-73.97180              </td><td>40.74630               </td><td>0                      </td></tr>\n",
       "\t<tr><th scope=row>3035</th><td> 5.7                   </td><td>2011-03-06 12:03:14 UTC</td><td>-73.98656              </td><td>40.74578               </td><td>-73.99455              </td><td>40.73000               </td><td>0                      </td></tr>\n",
       "\t<tr><th scope=row>3414</th><td> 7.3                   </td><td>2011-02-28 06:39:16 UTC</td><td>-73.97341              </td><td>40.74371               </td><td>-73.98522              </td><td>40.74158               </td><td>0                      </td></tr>\n",
       "\t<tr><th scope=row>3482</th><td>11.3                   </td><td>2011-11-30 17:23:02 UTC</td><td>-73.96810              </td><td>40.76250               </td><td>-73.98440              </td><td>40.76090               </td><td>0                      </td></tr>\n",
       "\t<tr><th scope=row>3490</th><td> 7.3                   </td><td>2011-10-18 08:18:18 UTC</td><td>-73.96610              </td><td>40.79450               </td><td>-73.96030              </td><td>40.77980               </td><td>0                      </td></tr>\n",
       "\t<tr><th scope=row>3600</th><td> 8.9                   </td><td>2011-03-06 18:24:50 UTC</td><td>-73.98266              </td><td>40.74614               </td><td>-74.00558              </td><td>40.72440               </td><td>0                      </td></tr>\n",
       "\t<tr><th scope=row>4115</th><td> 4.5                   </td><td>2011-07-22 05:51:00 UTC</td><td>-73.97550              </td><td>40.76080               </td><td>-73.99020              </td><td>40.76000               </td><td>0                      </td></tr>\n",
       "\t<tr><th scope=row>4249</th><td> 4.1                   </td><td>2012-02-15 11:19:50 UTC</td><td>-73.98211              </td><td>40.72107               </td><td>-73.99224              </td><td>40.72531               </td><td>0                      </td></tr>\n",
       "\t<tr><th scope=row>4345</th><td>24.9                   </td><td>2011-05-19 13:28:17 UTC</td><td>-73.78923              </td><td>40.64662               </td><td>-73.72503              </td><td>40.61414               </td><td>0                      </td></tr>\n",
       "\t<tr><th scope=row>4355</th><td> 5.3                   </td><td>2012-01-15 12:06:43 UTC</td><td>-73.96440              </td><td>40.76750               </td><td>-73.98160              </td><td>40.77400               </td><td>0                      </td></tr>\n",
       "\t<tr><th scope=row>5059</th><td>12.9                   </td><td>2011-11-05 18:29:30 UTC</td><td>-74.00890              </td><td>40.70940               </td><td>-73.98540              </td><td>40.75620               </td><td>0                      </td></tr>\n",
       "\t<tr><th scope=row>5151</th><td> 7.7                   </td><td>2011-11-07 22:07:24 UTC</td><td>-73.98490              </td><td>40.67530               </td><td>-74.01040              </td><td>40.65520               </td><td>0                      </td></tr>\n",
       "\t<tr><th scope=row>5162</th><td>11.3                   </td><td>2011-12-20 06:59:57 UTC</td><td>-73.98370              </td><td>40.77580               </td><td>-73.98530              </td><td>40.74130               </td><td>0                      </td></tr>\n",
       "\t<tr><th scope=row>5278</th><td> 6.1                   </td><td>2012-04-12 09:35:22 UTC</td><td>-73.96700              </td><td>40.77242               </td><td>-73.96886              </td><td>40.76115               </td><td>0                      </td></tr>\n",
       "\t<tr><th scope=row>5518</th><td> 3.3                   </td><td>2012-07-02 16:11:55 UTC</td><td>-74.00711              </td><td>40.74386               </td><td>-74.00334              </td><td>40.74888               </td><td>0                      </td></tr>\n",
       "\t<tr><th scope=row>5558</th><td>27.3                   </td><td>2011-02-08 13:31:18 UTC</td><td>-73.87332              </td><td>40.77395               </td><td>-74.01020              </td><td>40.71116               </td><td>0                      </td></tr>\n",
       "\t<tr><th scope=row>5689</th><td> 4.9                   </td><td>2011-09-07 21:50:40 UTC</td><td>-73.98670              </td><td>40.76130               </td><td>-73.98230              </td><td>40.77390               </td><td>0                      </td></tr>\n",
       "\t<tr><th scope=row>5915</th><td> 8.5                   </td><td>2011-12-19 22:44:42 UTC</td><td>-73.98200              </td><td>40.75590               </td><td>-73.95560              </td><td>40.76960               </td><td>0                      </td></tr>\n",
       "\t<tr><th scope=row>6037</th><td> 7.7                   </td><td>2011-02-26 12:41:03 UTC</td><td>-73.97671              </td><td>40.77571               </td><td>-73.97279              </td><td>40.76447               </td><td>0                      </td></tr>\n",
       "\t<tr><th scope=row>6576</th><td> 4.5                   </td><td>2012-04-19 19:44:48 UTC</td><td>-73.96460              </td><td>40.80721               </td><td>-73.97088              </td><td>40.79796               </td><td>0                      </td></tr>\n",
       "\t<tr><th scope=row>6714</th><td>10.5                   </td><td>2012-03-06 15:35:37 UTC</td><td>-73.96511              </td><td>40.76646               </td><td>-73.99752              </td><td>40.74488               </td><td>0                      </td></tr>\n",
       "\t<tr><th scope=row>6882</th><td> 5.7                   </td><td>2011-06-14 10:12:16 UTC</td><td>-73.95900              </td><td>40.78100               </td><td>-73.95030              </td><td>40.77540               </td><td>0                      </td></tr>\n",
       "\t<tr><th scope=row>7280</th><td>10.9                   </td><td>2012-04-18 18:44:15 UTC</td><td>-73.98293              </td><td>40.72264               </td><td>-73.97111              </td><td>40.76017               </td><td>0                      </td></tr>\n",
       "\t<tr><th scope=row>7521</th><td> 6.9                   </td><td>2011-06-08 13:11:10 UTC</td><td>-73.97510              </td><td>40.75520               </td><td>-73.98000              </td><td>40.76590               </td><td>0                      </td></tr>\n",
       "\t<tr><th scope=row>7641</th><td>10.9                   </td><td>2012-01-21 16:17:50 UTC</td><td>-73.99950              </td><td>40.72500               </td><td>-73.97326              </td><td>40.76329               </td><td>0                      </td></tr>\n",
       "\t<tr><th scope=row>7910</th><td> 6.9                   </td><td>2011-03-12 17:03:23 UTC</td><td>-73.97479              </td><td>40.75986               </td><td>-73.95572              </td><td>40.77273               </td><td>0                      </td></tr>\n",
       "\t<tr><th scope=row>8322</th><td> 7.3                   </td><td>2012-02-25 19:19:41 UTC</td><td>-74.00373              </td><td>40.74211               </td><td>-73.98827              </td><td>40.75931               </td><td>0                      </td></tr>\n",
       "\t<tr><th scope=row>8662</th><td> 8.1                   </td><td>2012-01-13 13:47:57 UTC</td><td>-73.99970              </td><td>40.72180               </td><td>-74.00560              </td><td>40.74110               </td><td>0                      </td></tr>\n",
       "\t<tr><th scope=row>8863</th><td>11.5                   </td><td>2013-05-17 07:15:00 UTC</td><td>-73.96984              </td><td>40.75302               </td><td>-73.99858              </td><td>40.71293               </td><td>0                      </td></tr>\n",
       "\t<tr><th scope=row>8917</th><td> 2.5                   </td><td>2011-09-13 18:45:31 UTC</td><td>-73.78330              </td><td>40.64860               </td><td>-73.78330              </td><td>40.64860               </td><td>0                      </td></tr>\n",
       "\t<tr><th scope=row>8972</th><td> 7.7                   </td><td>2011-10-22 20:50:34 UTC</td><td>-73.99860              </td><td>40.76100               </td><td>-73.97790              </td><td>40.77720               </td><td>0                      </td></tr>\n",
       "\t<tr><th scope=row>9160</th><td> 3.3                   </td><td>2011-06-04 10:38:47 UTC</td><td>-73.98730              </td><td>40.72920               </td><td>-73.99400              </td><td>40.73210               </td><td>0                      </td></tr>\n",
       "\t<tr><th scope=row>9966</th><td> 9.3                   </td><td>2012-01-04 22:04:14 UTC</td><td>-73.97100              </td><td>40.75490               </td><td>-74.00450              </td><td>40.73610               </td><td>0                      </td></tr>\n",
       "\t<tr><th scope=row>10643</th><td>10.1                   </td><td>2012-03-10 18:21:16 UTC</td><td>-73.97227              </td><td>40.75404               </td><td>-73.99409              </td><td>40.73444               </td><td>0                      </td></tr>\n",
       "\t<tr><th scope=row>10664</th><td>18.1                   </td><td>2011-05-06 13:38:48 UTC</td><td>-73.97382              </td><td>40.78936               </td><td>-73.94225              </td><td>40.75412               </td><td>0                      </td></tr>\n",
       "\t<tr><th scope=row>10712</th><td> 6.5                   </td><td>2012-03-31 20:16:01 UTC</td><td>-74.00432              </td><td>40.72407               </td><td>-74.00645              </td><td>40.73842               </td><td>0                      </td></tr>\n",
       "\t<tr><th scope=row>11463</th><td>15.7                   </td><td>2011-10-20 23:09:45 UTC</td><td>-73.99480              </td><td>40.75040               </td><td>-73.95920              </td><td>40.71060               </td><td>0                      </td></tr>\n",
       "\t<tr><th scope=row>11804</th><td>12.1                   </td><td>2011-06-21 08:58:36 UTC</td><td>-73.99900              </td><td>40.72480               </td><td>-73.98060              </td><td>40.75490               </td><td>0                      </td></tr>\n",
       "\t<tr><th scope=row>12217</th><td> 5.7                   </td><td>2012-03-27 16:06:09 UTC</td><td>-73.98202              </td><td>40.75634               </td><td>-73.98099              </td><td>40.74544               </td><td>0                      </td></tr>\n",
       "\t<tr><th scope=row>12612</th><td> 8.1                   </td><td>2011-07-22 23:13:58 UTC</td><td>-73.97800              </td><td>40.75230               </td><td>-73.99180              </td><td>40.76390               </td><td>0                      </td></tr>\n",
       "\t<tr><th scope=row>13030</th><td> 4.5                   </td><td>2012-02-01 21:18:24 UTC</td><td>-73.98212              </td><td>40.77041               </td><td>-73.98006              </td><td>40.76215               </td><td>0                      </td></tr>\n",
       "\t<tr><th scope=row>13228</th><td>10.9                   </td><td>2011-04-22 18:13:12 UTC</td><td>-73.99951              </td><td>40.72208               </td><td>-73.98950              </td><td>40.74742               </td><td>0                      </td></tr>\n",
       "\t<tr><th scope=row>13380</th><td> 7.3                   </td><td>2012-03-14 07:20:10 UTC</td><td>-73.96451              </td><td>40.77158               </td><td>-73.94559              </td><td>40.77803               </td><td>0                      </td></tr>\n",
       "\t<tr><th scope=row>13715</th><td> 4.1                   </td><td>2011-12-15 07:05:33 UTC</td><td>-73.97940              </td><td>40.73110               </td><td>-73.98150              </td><td>40.72480               </td><td>0                      </td></tr>\n",
       "\t<tr><th scope=row>13743</th><td>21.7                   </td><td>2011-04-29 12:51:14 UTC</td><td>-74.00947              </td><td>40.70214               </td><td>-73.95919              </td><td>40.78325               </td><td>0                      </td></tr>\n",
       "\t<tr><th scope=row>14197</th><td> 8.1                   </td><td>2011-10-06 23:31:04 UTC</td><td>-73.99940              </td><td>40.74380               </td><td>-73.99040              </td><td>40.72480               </td><td>0                      </td></tr>\n",
       "\t<tr><th scope=row>14309</th><td> 8.1                   </td><td>2011-11-11 12:03:38 UTC</td><td>  0.00000              </td><td> 0.00000               </td><td>-73.99000              </td><td>40.75540               </td><td>0                      </td></tr>\n",
       "\t<tr><th scope=row>14873</th><td> 3.3                   </td><td>2011-03-02 19:25:46 UTC</td><td>-73.94855              </td><td>40.77397               </td><td>-73.94510              </td><td>40.77841               </td><td>0                      </td></tr>\n",
       "\t<tr><th scope=row>15287</th><td> 4.9                   </td><td>2012-03-20 22:23:34 UTC</td><td>-73.97181              </td><td>40.76014               </td><td>-73.96203              </td><td>40.76768               </td><td>0                      </td></tr>\n",
       "\t<tr><th scope=row>15515</th><td> 6.5                   </td><td>2012-02-12 02:03:50 UTC</td><td>-73.99934              </td><td>40.71887               </td><td>-73.98411              </td><td>40.72524               </td><td>0                      </td></tr>\n",
       "\t<tr><th scope=row>15555</th><td> 6.5                   </td><td>2011-08-03 08:31:19 UTC</td><td>-73.99170              </td><td>40.75010               </td><td>-73.98100              </td><td>40.75090               </td><td>0                      </td></tr>\n",
       "\t<tr><th scope=row>15920</th><td>16.5                   </td><td>2011-10-17 08:58:54 UTC</td><td>  0.00000              </td><td> 0.00000               </td><td>-73.99970              </td><td>40.73450               </td><td>0                      </td></tr>\n",
       "</tbody>\n",
       "</table>\n"
      ],
      "text/latex": [
       "\\begin{tabular}{r|lllllll}\n",
       "  & fare\\_amount & pickup\\_datetime & pickup\\_longitude & pickup\\_latitude & dropoff\\_longitude & dropoff\\_latitude & passenger\\_count\\\\\n",
       "\\hline\n",
       "\t315 & 34.0                    & 2015-06-02 23:16:15 UTC & -73.97490               & 40.75109                & -73.90855               & 40.88188                & 0                      \\\\\n",
       "\t567 &  4.9                    & 2012-01-28 21:33:18 UTC & -73.95532               & 40.78284                & -73.95580               & 40.77367                & 0                      \\\\\n",
       "\t679 &  6.5                    & 2012-02-27 07:24:20 UTC & -73.98340               & 40.73818                & -73.97140               & 40.75802                & 0                      \\\\\n",
       "\t1161 & 13.3                    & 2011-05-25 23:58:48 UTC & -73.99836               & 40.74035                & -73.94646               & 40.77735                & 0                      \\\\\n",
       "\t1936 & 10.1                    & 2011-10-23 11:09:28 UTC & -73.97140               & 40.79500                & -73.96790               & 40.76860                & 0                      \\\\\n",
       "\t2201 &  8.1                    & 2011-05-23 16:54:19 UTC & -73.98801               & 40.74830                & -74.00518               & 40.73873                & 0                      \\\\\n",
       "\t2426 &  8.9                    & 2011-11-25 22:47:33 UTC & -73.99990               & 40.73860                & -73.97180               & 40.74630                & 0                      \\\\\n",
       "\t3035 &  5.7                    & 2011-03-06 12:03:14 UTC & -73.98656               & 40.74578                & -73.99455               & 40.73000                & 0                      \\\\\n",
       "\t3414 &  7.3                    & 2011-02-28 06:39:16 UTC & -73.97341               & 40.74371                & -73.98522               & 40.74158                & 0                      \\\\\n",
       "\t3482 & 11.3                    & 2011-11-30 17:23:02 UTC & -73.96810               & 40.76250                & -73.98440               & 40.76090                & 0                      \\\\\n",
       "\t3490 &  7.3                    & 2011-10-18 08:18:18 UTC & -73.96610               & 40.79450                & -73.96030               & 40.77980                & 0                      \\\\\n",
       "\t3600 &  8.9                    & 2011-03-06 18:24:50 UTC & -73.98266               & 40.74614                & -74.00558               & 40.72440                & 0                      \\\\\n",
       "\t4115 &  4.5                    & 2011-07-22 05:51:00 UTC & -73.97550               & 40.76080                & -73.99020               & 40.76000                & 0                      \\\\\n",
       "\t4249 &  4.1                    & 2012-02-15 11:19:50 UTC & -73.98211               & 40.72107                & -73.99224               & 40.72531                & 0                      \\\\\n",
       "\t4345 & 24.9                    & 2011-05-19 13:28:17 UTC & -73.78923               & 40.64662                & -73.72503               & 40.61414                & 0                      \\\\\n",
       "\t4355 &  5.3                    & 2012-01-15 12:06:43 UTC & -73.96440               & 40.76750                & -73.98160               & 40.77400                & 0                      \\\\\n",
       "\t5059 & 12.9                    & 2011-11-05 18:29:30 UTC & -74.00890               & 40.70940                & -73.98540               & 40.75620                & 0                      \\\\\n",
       "\t5151 &  7.7                    & 2011-11-07 22:07:24 UTC & -73.98490               & 40.67530                & -74.01040               & 40.65520                & 0                      \\\\\n",
       "\t5162 & 11.3                    & 2011-12-20 06:59:57 UTC & -73.98370               & 40.77580                & -73.98530               & 40.74130                & 0                      \\\\\n",
       "\t5278 &  6.1                    & 2012-04-12 09:35:22 UTC & -73.96700               & 40.77242                & -73.96886               & 40.76115                & 0                      \\\\\n",
       "\t5518 &  3.3                    & 2012-07-02 16:11:55 UTC & -74.00711               & 40.74386                & -74.00334               & 40.74888                & 0                      \\\\\n",
       "\t5558 & 27.3                    & 2011-02-08 13:31:18 UTC & -73.87332               & 40.77395                & -74.01020               & 40.71116                & 0                      \\\\\n",
       "\t5689 &  4.9                    & 2011-09-07 21:50:40 UTC & -73.98670               & 40.76130                & -73.98230               & 40.77390                & 0                      \\\\\n",
       "\t5915 &  8.5                    & 2011-12-19 22:44:42 UTC & -73.98200               & 40.75590                & -73.95560               & 40.76960                & 0                      \\\\\n",
       "\t6037 &  7.7                    & 2011-02-26 12:41:03 UTC & -73.97671               & 40.77571                & -73.97279               & 40.76447                & 0                      \\\\\n",
       "\t6576 &  4.5                    & 2012-04-19 19:44:48 UTC & -73.96460               & 40.80721                & -73.97088               & 40.79796                & 0                      \\\\\n",
       "\t6714 & 10.5                    & 2012-03-06 15:35:37 UTC & -73.96511               & 40.76646                & -73.99752               & 40.74488                & 0                      \\\\\n",
       "\t6882 &  5.7                    & 2011-06-14 10:12:16 UTC & -73.95900               & 40.78100                & -73.95030               & 40.77540                & 0                      \\\\\n",
       "\t7280 & 10.9                    & 2012-04-18 18:44:15 UTC & -73.98293               & 40.72264                & -73.97111               & 40.76017                & 0                      \\\\\n",
       "\t7521 &  6.9                    & 2011-06-08 13:11:10 UTC & -73.97510               & 40.75520                & -73.98000               & 40.76590                & 0                      \\\\\n",
       "\t7641 & 10.9                    & 2012-01-21 16:17:50 UTC & -73.99950               & 40.72500                & -73.97326               & 40.76329                & 0                      \\\\\n",
       "\t7910 &  6.9                    & 2011-03-12 17:03:23 UTC & -73.97479               & 40.75986                & -73.95572               & 40.77273                & 0                      \\\\\n",
       "\t8322 &  7.3                    & 2012-02-25 19:19:41 UTC & -74.00373               & 40.74211                & -73.98827               & 40.75931                & 0                      \\\\\n",
       "\t8662 &  8.1                    & 2012-01-13 13:47:57 UTC & -73.99970               & 40.72180                & -74.00560               & 40.74110                & 0                      \\\\\n",
       "\t8863 & 11.5                    & 2013-05-17 07:15:00 UTC & -73.96984               & 40.75302                & -73.99858               & 40.71293                & 0                      \\\\\n",
       "\t8917 &  2.5                    & 2011-09-13 18:45:31 UTC & -73.78330               & 40.64860                & -73.78330               & 40.64860                & 0                      \\\\\n",
       "\t8972 &  7.7                    & 2011-10-22 20:50:34 UTC & -73.99860               & 40.76100                & -73.97790               & 40.77720                & 0                      \\\\\n",
       "\t9160 &  3.3                    & 2011-06-04 10:38:47 UTC & -73.98730               & 40.72920                & -73.99400               & 40.73210                & 0                      \\\\\n",
       "\t9966 &  9.3                    & 2012-01-04 22:04:14 UTC & -73.97100               & 40.75490                & -74.00450               & 40.73610                & 0                      \\\\\n",
       "\t10643 & 10.1                    & 2012-03-10 18:21:16 UTC & -73.97227               & 40.75404                & -73.99409               & 40.73444                & 0                      \\\\\n",
       "\t10664 & 18.1                    & 2011-05-06 13:38:48 UTC & -73.97382               & 40.78936                & -73.94225               & 40.75412                & 0                      \\\\\n",
       "\t10712 &  6.5                    & 2012-03-31 20:16:01 UTC & -74.00432               & 40.72407                & -74.00645               & 40.73842                & 0                      \\\\\n",
       "\t11463 & 15.7                    & 2011-10-20 23:09:45 UTC & -73.99480               & 40.75040                & -73.95920               & 40.71060                & 0                      \\\\\n",
       "\t11804 & 12.1                    & 2011-06-21 08:58:36 UTC & -73.99900               & 40.72480                & -73.98060               & 40.75490                & 0                      \\\\\n",
       "\t12217 &  5.7                    & 2012-03-27 16:06:09 UTC & -73.98202               & 40.75634                & -73.98099               & 40.74544                & 0                      \\\\\n",
       "\t12612 &  8.1                    & 2011-07-22 23:13:58 UTC & -73.97800               & 40.75230                & -73.99180               & 40.76390                & 0                      \\\\\n",
       "\t13030 &  4.5                    & 2012-02-01 21:18:24 UTC & -73.98212               & 40.77041                & -73.98006               & 40.76215                & 0                      \\\\\n",
       "\t13228 & 10.9                    & 2011-04-22 18:13:12 UTC & -73.99951               & 40.72208                & -73.98950               & 40.74742                & 0                      \\\\\n",
       "\t13380 &  7.3                    & 2012-03-14 07:20:10 UTC & -73.96451               & 40.77158                & -73.94559               & 40.77803                & 0                      \\\\\n",
       "\t13715 &  4.1                    & 2011-12-15 07:05:33 UTC & -73.97940               & 40.73110                & -73.98150               & 40.72480                & 0                      \\\\\n",
       "\t13743 & 21.7                    & 2011-04-29 12:51:14 UTC & -74.00947               & 40.70214                & -73.95919               & 40.78325                & 0                      \\\\\n",
       "\t14197 &  8.1                    & 2011-10-06 23:31:04 UTC & -73.99940               & 40.74380                & -73.99040               & 40.72480                & 0                      \\\\\n",
       "\t14309 &  8.1                    & 2011-11-11 12:03:38 UTC &   0.00000               &  0.00000                & -73.99000               & 40.75540                & 0                      \\\\\n",
       "\t14873 &  3.3                    & 2011-03-02 19:25:46 UTC & -73.94855               & 40.77397                & -73.94510               & 40.77841                & 0                      \\\\\n",
       "\t15287 &  4.9                    & 2012-03-20 22:23:34 UTC & -73.97181               & 40.76014                & -73.96203               & 40.76768                & 0                      \\\\\n",
       "\t15515 &  6.5                    & 2012-02-12 02:03:50 UTC & -73.99934               & 40.71887                & -73.98411               & 40.72524                & 0                      \\\\\n",
       "\t15555 &  6.5                    & 2011-08-03 08:31:19 UTC & -73.99170               & 40.75010                & -73.98100               & 40.75090                & 0                      \\\\\n",
       "\t15920 & 16.5                    & 2011-10-17 08:58:54 UTC &   0.00000               &  0.00000                & -73.99970               & 40.73450                & 0                      \\\\\n",
       "\\end{tabular}\n"
      ],
      "text/markdown": [
       "\n",
       "| <!--/--> | fare_amount | pickup_datetime | pickup_longitude | pickup_latitude | dropoff_longitude | dropoff_latitude | passenger_count |\n",
       "|---|---|---|---|---|---|---|---|\n",
       "| 315 | 34.0                    | 2015-06-02 23:16:15 UTC | -73.97490               | 40.75109                | -73.90855               | 40.88188                | 0                       |\n",
       "| 567 |  4.9                    | 2012-01-28 21:33:18 UTC | -73.95532               | 40.78284                | -73.95580               | 40.77367                | 0                       |\n",
       "| 679 |  6.5                    | 2012-02-27 07:24:20 UTC | -73.98340               | 40.73818                | -73.97140               | 40.75802                | 0                       |\n",
       "| 1161 | 13.3                    | 2011-05-25 23:58:48 UTC | -73.99836               | 40.74035                | -73.94646               | 40.77735                | 0                       |\n",
       "| 1936 | 10.1                    | 2011-10-23 11:09:28 UTC | -73.97140               | 40.79500                | -73.96790               | 40.76860                | 0                       |\n",
       "| 2201 |  8.1                    | 2011-05-23 16:54:19 UTC | -73.98801               | 40.74830                | -74.00518               | 40.73873                | 0                       |\n",
       "| 2426 |  8.9                    | 2011-11-25 22:47:33 UTC | -73.99990               | 40.73860                | -73.97180               | 40.74630                | 0                       |\n",
       "| 3035 |  5.7                    | 2011-03-06 12:03:14 UTC | -73.98656               | 40.74578                | -73.99455               | 40.73000                | 0                       |\n",
       "| 3414 |  7.3                    | 2011-02-28 06:39:16 UTC | -73.97341               | 40.74371                | -73.98522               | 40.74158                | 0                       |\n",
       "| 3482 | 11.3                    | 2011-11-30 17:23:02 UTC | -73.96810               | 40.76250                | -73.98440               | 40.76090                | 0                       |\n",
       "| 3490 |  7.3                    | 2011-10-18 08:18:18 UTC | -73.96610               | 40.79450                | -73.96030               | 40.77980                | 0                       |\n",
       "| 3600 |  8.9                    | 2011-03-06 18:24:50 UTC | -73.98266               | 40.74614                | -74.00558               | 40.72440                | 0                       |\n",
       "| 4115 |  4.5                    | 2011-07-22 05:51:00 UTC | -73.97550               | 40.76080                | -73.99020               | 40.76000                | 0                       |\n",
       "| 4249 |  4.1                    | 2012-02-15 11:19:50 UTC | -73.98211               | 40.72107                | -73.99224               | 40.72531                | 0                       |\n",
       "| 4345 | 24.9                    | 2011-05-19 13:28:17 UTC | -73.78923               | 40.64662                | -73.72503               | 40.61414                | 0                       |\n",
       "| 4355 |  5.3                    | 2012-01-15 12:06:43 UTC | -73.96440               | 40.76750                | -73.98160               | 40.77400                | 0                       |\n",
       "| 5059 | 12.9                    | 2011-11-05 18:29:30 UTC | -74.00890               | 40.70940                | -73.98540               | 40.75620                | 0                       |\n",
       "| 5151 |  7.7                    | 2011-11-07 22:07:24 UTC | -73.98490               | 40.67530                | -74.01040               | 40.65520                | 0                       |\n",
       "| 5162 | 11.3                    | 2011-12-20 06:59:57 UTC | -73.98370               | 40.77580                | -73.98530               | 40.74130                | 0                       |\n",
       "| 5278 |  6.1                    | 2012-04-12 09:35:22 UTC | -73.96700               | 40.77242                | -73.96886               | 40.76115                | 0                       |\n",
       "| 5518 |  3.3                    | 2012-07-02 16:11:55 UTC | -74.00711               | 40.74386                | -74.00334               | 40.74888                | 0                       |\n",
       "| 5558 | 27.3                    | 2011-02-08 13:31:18 UTC | -73.87332               | 40.77395                | -74.01020               | 40.71116                | 0                       |\n",
       "| 5689 |  4.9                    | 2011-09-07 21:50:40 UTC | -73.98670               | 40.76130                | -73.98230               | 40.77390                | 0                       |\n",
       "| 5915 |  8.5                    | 2011-12-19 22:44:42 UTC | -73.98200               | 40.75590                | -73.95560               | 40.76960                | 0                       |\n",
       "| 6037 |  7.7                    | 2011-02-26 12:41:03 UTC | -73.97671               | 40.77571                | -73.97279               | 40.76447                | 0                       |\n",
       "| 6576 |  4.5                    | 2012-04-19 19:44:48 UTC | -73.96460               | 40.80721                | -73.97088               | 40.79796                | 0                       |\n",
       "| 6714 | 10.5                    | 2012-03-06 15:35:37 UTC | -73.96511               | 40.76646                | -73.99752               | 40.74488                | 0                       |\n",
       "| 6882 |  5.7                    | 2011-06-14 10:12:16 UTC | -73.95900               | 40.78100                | -73.95030               | 40.77540                | 0                       |\n",
       "| 7280 | 10.9                    | 2012-04-18 18:44:15 UTC | -73.98293               | 40.72264                | -73.97111               | 40.76017                | 0                       |\n",
       "| 7521 |  6.9                    | 2011-06-08 13:11:10 UTC | -73.97510               | 40.75520                | -73.98000               | 40.76590                | 0                       |\n",
       "| 7641 | 10.9                    | 2012-01-21 16:17:50 UTC | -73.99950               | 40.72500                | -73.97326               | 40.76329                | 0                       |\n",
       "| 7910 |  6.9                    | 2011-03-12 17:03:23 UTC | -73.97479               | 40.75986                | -73.95572               | 40.77273                | 0                       |\n",
       "| 8322 |  7.3                    | 2012-02-25 19:19:41 UTC | -74.00373               | 40.74211                | -73.98827               | 40.75931                | 0                       |\n",
       "| 8662 |  8.1                    | 2012-01-13 13:47:57 UTC | -73.99970               | 40.72180                | -74.00560               | 40.74110                | 0                       |\n",
       "| 8863 | 11.5                    | 2013-05-17 07:15:00 UTC | -73.96984               | 40.75302                | -73.99858               | 40.71293                | 0                       |\n",
       "| 8917 |  2.5                    | 2011-09-13 18:45:31 UTC | -73.78330               | 40.64860                | -73.78330               | 40.64860                | 0                       |\n",
       "| 8972 |  7.7                    | 2011-10-22 20:50:34 UTC | -73.99860               | 40.76100                | -73.97790               | 40.77720                | 0                       |\n",
       "| 9160 |  3.3                    | 2011-06-04 10:38:47 UTC | -73.98730               | 40.72920                | -73.99400               | 40.73210                | 0                       |\n",
       "| 9966 |  9.3                    | 2012-01-04 22:04:14 UTC | -73.97100               | 40.75490                | -74.00450               | 40.73610                | 0                       |\n",
       "| 10643 | 10.1                    | 2012-03-10 18:21:16 UTC | -73.97227               | 40.75404                | -73.99409               | 40.73444                | 0                       |\n",
       "| 10664 | 18.1                    | 2011-05-06 13:38:48 UTC | -73.97382               | 40.78936                | -73.94225               | 40.75412                | 0                       |\n",
       "| 10712 |  6.5                    | 2012-03-31 20:16:01 UTC | -74.00432               | 40.72407                | -74.00645               | 40.73842                | 0                       |\n",
       "| 11463 | 15.7                    | 2011-10-20 23:09:45 UTC | -73.99480               | 40.75040                | -73.95920               | 40.71060                | 0                       |\n",
       "| 11804 | 12.1                    | 2011-06-21 08:58:36 UTC | -73.99900               | 40.72480                | -73.98060               | 40.75490                | 0                       |\n",
       "| 12217 |  5.7                    | 2012-03-27 16:06:09 UTC | -73.98202               | 40.75634                | -73.98099               | 40.74544                | 0                       |\n",
       "| 12612 |  8.1                    | 2011-07-22 23:13:58 UTC | -73.97800               | 40.75230                | -73.99180               | 40.76390                | 0                       |\n",
       "| 13030 |  4.5                    | 2012-02-01 21:18:24 UTC | -73.98212               | 40.77041                | -73.98006               | 40.76215                | 0                       |\n",
       "| 13228 | 10.9                    | 2011-04-22 18:13:12 UTC | -73.99951               | 40.72208                | -73.98950               | 40.74742                | 0                       |\n",
       "| 13380 |  7.3                    | 2012-03-14 07:20:10 UTC | -73.96451               | 40.77158                | -73.94559               | 40.77803                | 0                       |\n",
       "| 13715 |  4.1                    | 2011-12-15 07:05:33 UTC | -73.97940               | 40.73110                | -73.98150               | 40.72480                | 0                       |\n",
       "| 13743 | 21.7                    | 2011-04-29 12:51:14 UTC | -74.00947               | 40.70214                | -73.95919               | 40.78325                | 0                       |\n",
       "| 14197 |  8.1                    | 2011-10-06 23:31:04 UTC | -73.99940               | 40.74380                | -73.99040               | 40.72480                | 0                       |\n",
       "| 14309 |  8.1                    | 2011-11-11 12:03:38 UTC |   0.00000               |  0.00000                | -73.99000               | 40.75540                | 0                       |\n",
       "| 14873 |  3.3                    | 2011-03-02 19:25:46 UTC | -73.94855               | 40.77397                | -73.94510               | 40.77841                | 0                       |\n",
       "| 15287 |  4.9                    | 2012-03-20 22:23:34 UTC | -73.97181               | 40.76014                | -73.96203               | 40.76768                | 0                       |\n",
       "| 15515 |  6.5                    | 2012-02-12 02:03:50 UTC | -73.99934               | 40.71887                | -73.98411               | 40.72524                | 0                       |\n",
       "| 15555 |  6.5                    | 2011-08-03 08:31:19 UTC | -73.99170               | 40.75010                | -73.98100               | 40.75090                | 0                       |\n",
       "| 15920 | 16.5                    | 2011-10-17 08:58:54 UTC |   0.00000               |  0.00000                | -73.99970               | 40.73450                | 0                       |\n",
       "\n"
      ],
      "text/plain": [
       "      fare_amount pickup_datetime         pickup_longitude pickup_latitude\n",
       "315   34.0        2015-06-02 23:16:15 UTC -73.97490        40.75109       \n",
       "567    4.9        2012-01-28 21:33:18 UTC -73.95532        40.78284       \n",
       "679    6.5        2012-02-27 07:24:20 UTC -73.98340        40.73818       \n",
       "1161  13.3        2011-05-25 23:58:48 UTC -73.99836        40.74035       \n",
       "1936  10.1        2011-10-23 11:09:28 UTC -73.97140        40.79500       \n",
       "2201   8.1        2011-05-23 16:54:19 UTC -73.98801        40.74830       \n",
       "2426   8.9        2011-11-25 22:47:33 UTC -73.99990        40.73860       \n",
       "3035   5.7        2011-03-06 12:03:14 UTC -73.98656        40.74578       \n",
       "3414   7.3        2011-02-28 06:39:16 UTC -73.97341        40.74371       \n",
       "3482  11.3        2011-11-30 17:23:02 UTC -73.96810        40.76250       \n",
       "3490   7.3        2011-10-18 08:18:18 UTC -73.96610        40.79450       \n",
       "3600   8.9        2011-03-06 18:24:50 UTC -73.98266        40.74614       \n",
       "4115   4.5        2011-07-22 05:51:00 UTC -73.97550        40.76080       \n",
       "4249   4.1        2012-02-15 11:19:50 UTC -73.98211        40.72107       \n",
       "4345  24.9        2011-05-19 13:28:17 UTC -73.78923        40.64662       \n",
       "4355   5.3        2012-01-15 12:06:43 UTC -73.96440        40.76750       \n",
       "5059  12.9        2011-11-05 18:29:30 UTC -74.00890        40.70940       \n",
       "5151   7.7        2011-11-07 22:07:24 UTC -73.98490        40.67530       \n",
       "5162  11.3        2011-12-20 06:59:57 UTC -73.98370        40.77580       \n",
       "5278   6.1        2012-04-12 09:35:22 UTC -73.96700        40.77242       \n",
       "5518   3.3        2012-07-02 16:11:55 UTC -74.00711        40.74386       \n",
       "5558  27.3        2011-02-08 13:31:18 UTC -73.87332        40.77395       \n",
       "5689   4.9        2011-09-07 21:50:40 UTC -73.98670        40.76130       \n",
       "5915   8.5        2011-12-19 22:44:42 UTC -73.98200        40.75590       \n",
       "6037   7.7        2011-02-26 12:41:03 UTC -73.97671        40.77571       \n",
       "6576   4.5        2012-04-19 19:44:48 UTC -73.96460        40.80721       \n",
       "6714  10.5        2012-03-06 15:35:37 UTC -73.96511        40.76646       \n",
       "6882   5.7        2011-06-14 10:12:16 UTC -73.95900        40.78100       \n",
       "7280  10.9        2012-04-18 18:44:15 UTC -73.98293        40.72264       \n",
       "7521   6.9        2011-06-08 13:11:10 UTC -73.97510        40.75520       \n",
       "7641  10.9        2012-01-21 16:17:50 UTC -73.99950        40.72500       \n",
       "7910   6.9        2011-03-12 17:03:23 UTC -73.97479        40.75986       \n",
       "8322   7.3        2012-02-25 19:19:41 UTC -74.00373        40.74211       \n",
       "8662   8.1        2012-01-13 13:47:57 UTC -73.99970        40.72180       \n",
       "8863  11.5        2013-05-17 07:15:00 UTC -73.96984        40.75302       \n",
       "8917   2.5        2011-09-13 18:45:31 UTC -73.78330        40.64860       \n",
       "8972   7.7        2011-10-22 20:50:34 UTC -73.99860        40.76100       \n",
       "9160   3.3        2011-06-04 10:38:47 UTC -73.98730        40.72920       \n",
       "9966   9.3        2012-01-04 22:04:14 UTC -73.97100        40.75490       \n",
       "10643 10.1        2012-03-10 18:21:16 UTC -73.97227        40.75404       \n",
       "10664 18.1        2011-05-06 13:38:48 UTC -73.97382        40.78936       \n",
       "10712  6.5        2012-03-31 20:16:01 UTC -74.00432        40.72407       \n",
       "11463 15.7        2011-10-20 23:09:45 UTC -73.99480        40.75040       \n",
       "11804 12.1        2011-06-21 08:58:36 UTC -73.99900        40.72480       \n",
       "12217  5.7        2012-03-27 16:06:09 UTC -73.98202        40.75634       \n",
       "12612  8.1        2011-07-22 23:13:58 UTC -73.97800        40.75230       \n",
       "13030  4.5        2012-02-01 21:18:24 UTC -73.98212        40.77041       \n",
       "13228 10.9        2011-04-22 18:13:12 UTC -73.99951        40.72208       \n",
       "13380  7.3        2012-03-14 07:20:10 UTC -73.96451        40.77158       \n",
       "13715  4.1        2011-12-15 07:05:33 UTC -73.97940        40.73110       \n",
       "13743 21.7        2011-04-29 12:51:14 UTC -74.00947        40.70214       \n",
       "14197  8.1        2011-10-06 23:31:04 UTC -73.99940        40.74380       \n",
       "14309  8.1        2011-11-11 12:03:38 UTC   0.00000         0.00000       \n",
       "14873  3.3        2011-03-02 19:25:46 UTC -73.94855        40.77397       \n",
       "15287  4.9        2012-03-20 22:23:34 UTC -73.97181        40.76014       \n",
       "15515  6.5        2012-02-12 02:03:50 UTC -73.99934        40.71887       \n",
       "15555  6.5        2011-08-03 08:31:19 UTC -73.99170        40.75010       \n",
       "15920 16.5        2011-10-17 08:58:54 UTC   0.00000         0.00000       \n",
       "      dropoff_longitude dropoff_latitude passenger_count\n",
       "315   -73.90855         40.88188         0              \n",
       "567   -73.95580         40.77367         0              \n",
       "679   -73.97140         40.75802         0              \n",
       "1161  -73.94646         40.77735         0              \n",
       "1936  -73.96790         40.76860         0              \n",
       "2201  -74.00518         40.73873         0              \n",
       "2426  -73.97180         40.74630         0              \n",
       "3035  -73.99455         40.73000         0              \n",
       "3414  -73.98522         40.74158         0              \n",
       "3482  -73.98440         40.76090         0              \n",
       "3490  -73.96030         40.77980         0              \n",
       "3600  -74.00558         40.72440         0              \n",
       "4115  -73.99020         40.76000         0              \n",
       "4249  -73.99224         40.72531         0              \n",
       "4345  -73.72503         40.61414         0              \n",
       "4355  -73.98160         40.77400         0              \n",
       "5059  -73.98540         40.75620         0              \n",
       "5151  -74.01040         40.65520         0              \n",
       "5162  -73.98530         40.74130         0              \n",
       "5278  -73.96886         40.76115         0              \n",
       "5518  -74.00334         40.74888         0              \n",
       "5558  -74.01020         40.71116         0              \n",
       "5689  -73.98230         40.77390         0              \n",
       "5915  -73.95560         40.76960         0              \n",
       "6037  -73.97279         40.76447         0              \n",
       "6576  -73.97088         40.79796         0              \n",
       "6714  -73.99752         40.74488         0              \n",
       "6882  -73.95030         40.77540         0              \n",
       "7280  -73.97111         40.76017         0              \n",
       "7521  -73.98000         40.76590         0              \n",
       "7641  -73.97326         40.76329         0              \n",
       "7910  -73.95572         40.77273         0              \n",
       "8322  -73.98827         40.75931         0              \n",
       "8662  -74.00560         40.74110         0              \n",
       "8863  -73.99858         40.71293         0              \n",
       "8917  -73.78330         40.64860         0              \n",
       "8972  -73.97790         40.77720         0              \n",
       "9160  -73.99400         40.73210         0              \n",
       "9966  -74.00450         40.73610         0              \n",
       "10643 -73.99409         40.73444         0              \n",
       "10664 -73.94225         40.75412         0              \n",
       "10712 -74.00645         40.73842         0              \n",
       "11463 -73.95920         40.71060         0              \n",
       "11804 -73.98060         40.75490         0              \n",
       "12217 -73.98099         40.74544         0              \n",
       "12612 -73.99180         40.76390         0              \n",
       "13030 -73.98006         40.76215         0              \n",
       "13228 -73.98950         40.74742         0              \n",
       "13380 -73.94559         40.77803         0              \n",
       "13715 -73.98150         40.72480         0              \n",
       "13743 -73.95919         40.78325         0              \n",
       "14197 -73.99040         40.72480         0              \n",
       "14309 -73.99000         40.75540         0              \n",
       "14873 -73.94510         40.77841         0              \n",
       "15287 -73.96203         40.76768         0              \n",
       "15515 -73.98411         40.72524         0              \n",
       "15555 -73.98100         40.75090         0              \n",
       "15920 -73.99970         40.73450         0              "
      ]
     },
     "metadata": {},
     "output_type": "display_data"
    },
    {
     "data": {
      "text/html": [
       "58"
      ],
      "text/latex": [
       "58"
      ],
      "text/markdown": [
       "58"
      ],
      "text/plain": [
       "[1] 58"
      ]
     },
     "metadata": {},
     "output_type": "display_data"
    }
   ],
   "source": [
    "# Also we need to see if there are any passenger_count==0\n",
    "\n",
    "train[which(train$passenger_count <1 ),]\n",
    "nrow(train[which(train$passenger_count <1 ),])"
   ]
  },
  {
   "cell_type": "code",
   "execution_count": 17,
   "metadata": {},
   "outputs": [],
   "source": [
    "# We will remove these 58 observations and 20 observation which are above 6 value because a cab cannot hold these number of passengers.\n",
    "\n",
    "train = train[-which(train$passenger_count < 1 ),]\n",
    "train = train[-which(train$passenger_count > 6),]"
   ]
  },
  {
   "cell_type": "code",
   "execution_count": 18,
   "metadata": {},
   "outputs": [
    {
     "name": "stdout",
     "output_type": "stream",
     "text": [
      "[1] \"pickup_longitude above 180= 0\"\n",
      "[1] \"pickup_longitude above -180= 0\"\n",
      "[1] \"pickup_latitude above 90= 1\"\n",
      "[1] \"pickup_latitude above -90= 0\"\n",
      "[1] \"dropoff_longitude above 180= 0\"\n",
      "[1] \"dropoff_longitude above -180= 0\"\n",
      "[1] \"dropoff_latitude above -90= 0\"\n",
      "[1] \"dropoff_latitude above 90= 0\"\n"
     ]
    }
   ],
   "source": [
    "# 3.Latitudes range from -90 to 90.Longitudes range from -180 to 180.Removing which does not satisfy these ranges\n",
    "\n",
    "print(paste('pickup_longitude above 180=',nrow(train[which(train$pickup_longitude >180 ),])))\n",
    "print(paste('pickup_longitude above -180=',nrow(train[which(train$pickup_longitude < -180 ),])))\n",
    "print(paste('pickup_latitude above 90=',nrow(train[which(train$pickup_latitude > 90 ),])))\n",
    "print(paste('pickup_latitude above -90=',nrow(train[which(train$pickup_latitude < -90 ),])))\n",
    "print(paste('dropoff_longitude above 180=',nrow(train[which(train$dropoff_longitude > 180 ),])))\n",
    "print(paste('dropoff_longitude above -180=',nrow(train[which(train$dropoff_longitude < -180 ),])))\n",
    "print(paste('dropoff_latitude above -90=',nrow(train[which(train$dropoff_latitude < -90 ),])))\n",
    "print(paste('dropoff_latitude above 90=',nrow(train[which(train$dropoff_latitude > 90 ),])))"
   ]
  },
  {
   "cell_type": "code",
   "execution_count": 19,
   "metadata": {},
   "outputs": [
    {
     "data": {
      "text/html": [
       "311"
      ],
      "text/latex": [
       "311"
      ],
      "text/markdown": [
       "311"
      ],
      "text/plain": [
       "[1] 311"
      ]
     },
     "metadata": {},
     "output_type": "display_data"
    },
    {
     "data": {
      "text/html": [
       "311"
      ],
      "text/latex": [
       "311"
      ],
      "text/markdown": [
       "311"
      ],
      "text/plain": [
       "[1] 311"
      ]
     },
     "metadata": {},
     "output_type": "display_data"
    },
    {
     "data": {
      "text/html": [
       "312"
      ],
      "text/latex": [
       "312"
      ],
      "text/markdown": [
       "312"
      ],
      "text/plain": [
       "[1] 312"
      ]
     },
     "metadata": {},
     "output_type": "display_data"
    },
    {
     "data": {
      "text/html": [
       "311"
      ],
      "text/latex": [
       "311"
      ],
      "text/markdown": [
       "311"
      ],
      "text/plain": [
       "[1] 311"
      ]
     },
     "metadata": {},
     "output_type": "display_data"
    }
   ],
   "source": [
    "# There's only one outlier which is in variable pickup_latitude.So we will remove it with nan.\n",
    "# Also we will see if there are any values equal to 0.\n",
    "\n",
    "nrow(train[which(train$pickup_longitude == 0 ),])\n",
    "nrow(train[which(train$pickup_latitude == 0 ),])\n",
    "nrow(train[which(train$dropoff_longitude == 0 ),])\n",
    "nrow(train[which(train$pickup_latitude == 0 ),])"
   ]
  },
  {
   "cell_type": "code",
   "execution_count": 20,
   "metadata": {},
   "outputs": [],
   "source": [
    "# there are values which are equal to 0. we will remove them.\n",
    "\n",
    "train = train[-which(train$pickup_latitude > 90),]\n",
    "train = train[-which(train$pickup_longitude == 0),]\n",
    "train = train[-which(train$dropoff_longitude == 0),]"
   ]
  },
  {
   "cell_type": "code",
   "execution_count": 23,
   "metadata": {},
   "outputs": [],
   "source": [
    "# Make a copy\n",
    "\n",
    "df=train"
   ]
  },
  {
   "cell_type": "code",
   "execution_count": 24,
   "metadata": {},
   "outputs": [
    {
     "data": {
      "text/html": [
       "<table>\n",
       "<thead><tr><th scope=col>Columns</th><th scope=col>Missing_percentage</th></tr></thead>\n",
       "<tbody>\n",
       "\t<tr><td>passenger_count  </td><td>0.3511909        </td></tr>\n",
       "\t<tr><td>fare_amount      </td><td>0.1404763        </td></tr>\n",
       "\t<tr><td>pickup_datetime  </td><td>0.0000000        </td></tr>\n",
       "\t<tr><td>pickup_longitude </td><td>0.0000000        </td></tr>\n",
       "\t<tr><td>pickup_latitude  </td><td>0.0000000        </td></tr>\n",
       "\t<tr><td>dropoff_longitude</td><td>0.0000000        </td></tr>\n",
       "\t<tr><td>dropoff_latitude </td><td>0.0000000        </td></tr>\n",
       "</tbody>\n",
       "</table>\n"
      ],
      "text/latex": [
       "\\begin{tabular}{r|ll}\n",
       " Columns & Missing\\_percentage\\\\\n",
       "\\hline\n",
       "\t passenger\\_count   & 0.3511909          \\\\\n",
       "\t fare\\_amount       & 0.1404763          \\\\\n",
       "\t pickup\\_datetime   & 0.0000000          \\\\\n",
       "\t pickup\\_longitude  & 0.0000000          \\\\\n",
       "\t pickup\\_latitude   & 0.0000000          \\\\\n",
       "\t dropoff\\_longitude & 0.0000000          \\\\\n",
       "\t dropoff\\_latitude  & 0.0000000          \\\\\n",
       "\\end{tabular}\n"
      ],
      "text/markdown": [
       "\n",
       "| Columns | Missing_percentage |\n",
       "|---|---|\n",
       "| passenger_count   | 0.3511909         |\n",
       "| fare_amount       | 0.1404763         |\n",
       "| pickup_datetime   | 0.0000000         |\n",
       "| pickup_longitude  | 0.0000000         |\n",
       "| pickup_latitude   | 0.0000000         |\n",
       "| dropoff_longitude | 0.0000000         |\n",
       "| dropoff_latitude  | 0.0000000         |\n",
       "\n"
      ],
      "text/plain": [
       "  Columns           Missing_percentage\n",
       "1 passenger_count   0.3511909         \n",
       "2 fare_amount       0.1404763         \n",
       "3 pickup_datetime   0.0000000         \n",
       "4 pickup_longitude  0.0000000         \n",
       "5 pickup_latitude   0.0000000         \n",
       "6 dropoff_longitude 0.0000000         \n",
       "7 dropoff_latitude  0.0000000         "
      ]
     },
     "metadata": {},
     "output_type": "display_data"
    }
   ],
   "source": [
    "# Missing Value Analysis\n",
    "\n",
    "missing_val = data.frame(apply(train,2,function(x){sum(is.na(x))}))\n",
    "missing_val$Columns = row.names(missing_val)\n",
    "names(missing_val)[1] =  \"Missing_percentage\"\n",
    "missing_val$Missing_percentage = (missing_val$Missing_percentage/nrow(train)) * 100\n",
    "missing_val = missing_val[order(-missing_val$Missing_percentage),]\n",
    "row.names(missing_val) = NULL\n",
    "missing_val = missing_val[,c(2,1)]\n",
    "missing_val"
   ]
  },
  {
   "cell_type": "code",
   "execution_count": 25,
   "metadata": {},
   "outputs": [
    {
     "data": {
      "text/html": [
       "<ol class=list-inline>\n",
       "\t<li>1</li>\n",
       "\t<li>2</li>\n",
       "\t<li>3</li>\n",
       "\t<li>&lt;NA&gt;</li>\n",
       "\t<li>6</li>\n",
       "\t<li>5</li>\n",
       "\t<li>4</li>\n",
       "</ol>\n"
      ],
      "text/latex": [
       "\\begin{enumerate*}\n",
       "\\item 1\n",
       "\\item 2\n",
       "\\item 3\n",
       "\\item <NA>\n",
       "\\item 6\n",
       "\\item 5\n",
       "\\item 4\n",
       "\\end{enumerate*}\n"
      ],
      "text/markdown": [
       "1. 1\n",
       "2. 2\n",
       "3. 3\n",
       "4. &lt;NA&gt;\n",
       "5. 6\n",
       "6. 5\n",
       "7. 4\n",
       "\n",
       "\n"
      ],
      "text/plain": [
       "[1]  1  2  3 NA  6  5  4"
      ]
     },
     "metadata": {},
     "output_type": "display_data"
    },
    {
     "data": {
      "text/html": [
       "<ol class=list-inline>\n",
       "\t<li>1</li>\n",
       "\t<li>2</li>\n",
       "\t<li>3</li>\n",
       "\t<li>4</li>\n",
       "\t<li>5</li>\n",
       "\t<li>6</li>\n",
       "</ol>\n"
      ],
      "text/latex": [
       "\\begin{enumerate*}\n",
       "\\item 1\n",
       "\\item 2\n",
       "\\item 3\n",
       "\\item 4\n",
       "\\item 5\n",
       "\\item 6\n",
       "\\end{enumerate*}\n"
      ],
      "text/markdown": [
       "1. 1\n",
       "2. 2\n",
       "3. 3\n",
       "4. 4\n",
       "5. 5\n",
       "6. 6\n",
       "\n",
       "\n"
      ],
      "text/plain": [
       "[1] 1 2 3 4 5 6"
      ]
     },
     "metadata": {},
     "output_type": "display_data"
    }
   ],
   "source": [
    "unique(train$passenger_count)\n",
    "unique(test$passenger_count)\n",
    "train[,'passenger_count'] = factor(train[,'passenger_count'], labels=(1:6))\n",
    "test[,'passenger_count'] = factor(test[,'passenger_count'], labels=(1:6))"
   ]
  },
  {
   "cell_type": "code",
   "execution_count": 27,
   "metadata": {},
   "outputs": [
    {
     "data": {
      "text/html": [
       "&lt;NA&gt;\n",
       "<details>\n",
       "\t<summary style=display:list-item;cursor:pointer>\n",
       "\t\t<strong>Levels</strong>:\n",
       "\t</summary>\n",
       "\t<ol class=list-inline>\n",
       "\t\t<li>'1'</li>\n",
       "\t\t<li>'2'</li>\n",
       "\t\t<li>'3'</li>\n",
       "\t\t<li>'4'</li>\n",
       "\t\t<li>'5'</li>\n",
       "\t\t<li>'6'</li>\n",
       "\t</ol>\n",
       "</details>"
      ],
      "text/latex": [
       "<NA>\n",
       "\\emph{Levels}: \\begin{enumerate*}\n",
       "\\item '1'\n",
       "\\item '2'\n",
       "\\item '3'\n",
       "\\item '4'\n",
       "\\item '5'\n",
       "\\item '6'\n",
       "\\end{enumerate*}\n"
      ],
      "text/markdown": [
       "&lt;NA&gt;\n",
       "**Levels**: 1. '1'\n",
       "2. '2'\n",
       "3. '3'\n",
       "4. '4'\n",
       "5. '5'\n",
       "6. '6'\n",
       "\n",
       "\n"
      ],
      "text/plain": [
       "[1] <NA>\n",
       "Levels: 1 2 3 4 5 6"
      ]
     },
     "metadata": {},
     "output_type": "display_data"
    }
   ],
   "source": [
    "# For Passenger_count\n",
    "\n",
    "train$passenger_count[1000]\n",
    "train$passenger_count[1000] = NA\n",
    "getmode <- function(v) {\n",
    "  uniqv <- unique(v)\n",
    "  uniqv[which.max(tabulate(match(v, uniqv)))]\n",
    "}"
   ]
  },
  {
   "cell_type": "code",
   "execution_count": 28,
   "metadata": {},
   "outputs": [
    {
     "ename": "ERROR",
     "evalue": "Error in var(if (is.vector(x) || is.factor(x)) x else as.double(x), na.rm = na.rm): Calling var(x) on a factor x is defunct.\n  Use something like 'all(duplicated(x)[-1L])' to test for a constant vector.\n",
     "output_type": "error",
     "traceback": [
      "Error in var(if (is.vector(x) || is.factor(x)) x else as.double(x), na.rm = na.rm): Calling var(x) on a factor x is defunct.\n  Use something like 'all(duplicated(x)[-1L])' to test for a constant vector.\nTraceback:\n",
      "1. sapply(train, sd, na.rm = TRUE)",
      "2. lapply(X = X, FUN = FUN, ...)",
      "3. FUN(X[[i]], ...)",
      "4. var(if (is.vector(x) || is.factor(x)) x else as.double(x), na.rm = na.rm)"
     ]
    }
   ],
   "source": [
    "# For fare_amount\n",
    "\n",
    "sapply(train, sd, na.rm = TRUE)\n",
    "train$fare_amount[1000]\n",
    "train$fare_amount[1000]= NA"
   ]
  },
  {
   "cell_type": "code",
   "execution_count": 29,
   "metadata": {},
   "outputs": [
    {
     "data": {
      "text/html": [
       "15.1176769614425"
      ],
      "text/latex": [
       "15.1176769614425"
      ],
      "text/markdown": [
       "15.1176769614425"
      ],
      "text/plain": [
       "[1] 15.11768"
      ]
     },
     "metadata": {},
     "output_type": "display_data"
    }
   ],
   "source": [
    "# Mean Method\n",
    "\n",
    "mean(train$fare_amount, na.rm = T)"
   ]
  },
  {
   "cell_type": "code",
   "execution_count": 30,
   "metadata": {},
   "outputs": [
    {
     "data": {
      "text/html": [
       "8.5"
      ],
      "text/latex": [
       "8.5"
      ],
      "text/markdown": [
       "8.5"
      ],
      "text/plain": [
       "[1] 8.5"
      ]
     },
     "metadata": {},
     "output_type": "display_data"
    }
   ],
   "source": [
    "#Median Method\n",
    "\n",
    "median(train$fare_amount, na.rm = T)"
   ]
  },
  {
   "cell_type": "code",
   "execution_count": 31,
   "metadata": {},
   "outputs": [
    {
     "data": {
      "text/html": [
       "78"
      ],
      "text/latex": [
       "78"
      ],
      "text/markdown": [
       "78"
      ],
      "text/plain": [
       "[1] 78"
      ]
     },
     "metadata": {},
     "output_type": "display_data"
    },
    {
     "name": "stdout",
     "output_type": "stream",
     "text": [
      "'data.frame':\t15661 obs. of  7 variables:\n",
      " $ fare_amount      : num  4.5 16.9 5.7 7.7 5.3 12.1 7.5 16.5 NA 8.9 ...\n",
      " $ pickup_datetime  : Factor w/ 16021 levels \"2009-01-01 01:31:49 UTC\",..: 1115 2509 6550 8252 2919 4986 9743 7479 9838 1606 ...\n",
      " $ pickup_longitude : num  -73.8 -74 -74 -74 -74 ...\n",
      " $ pickup_latitude  : num  40.7 40.7 40.8 40.7 40.8 ...\n",
      " $ dropoff_longitude: num  -73.8 -74 -74 -74 -74 ...\n",
      " $ dropoff_latitude : num  40.7 40.8 40.8 40.8 40.8 ...\n",
      " $ passenger_count  : Factor w/ 6 levels \"1\",\"2\",\"3\",\"4\",..: 1 1 2 1 1 1 1 1 1 2 ...\n"
     ]
    },
    {
     "data": {
      "text/plain": [
       "  fare_amount                      pickup_datetime  pickup_longitude\n",
       " Min.   :    1.14   2009-04-18 20:44:00 UTC:    2   Min.   :-74.44  \n",
       " 1st Qu.:    6.00   2009-05-10 17:57:00 UTC:    2   1st Qu.:-73.99  \n",
       " Median :    8.50   2009-07-01 15:55:00 UTC:    2   Median :-73.98  \n",
       " Mean   :   15.12   2009-07-28 13:37:00 UTC:    2   Mean   :-73.91  \n",
       " 3rd Qu.:   12.50   2009-12-10 15:37:00 UTC:    2   3rd Qu.:-73.97  \n",
       " Max.   :54343.00   2009-12-11 11:56:00 UTC:    2   Max.   : 40.77  \n",
       " NA's   :22         (Other)                :15649                   \n",
       " pickup_latitude  dropoff_longitude dropoff_latitude passenger_count\n",
       " Min.   :-74.01   Min.   :-74.43    Min.   :-74.01   1   :11015     \n",
       " 1st Qu.: 40.74   1st Qu.:-73.99    1st Qu.: 40.74   2   : 2286     \n",
       " Median : 40.75   Median :-73.98    Median : 40.75   3   :  663     \n",
       " Mean   : 40.69   Mean   :-73.91    Mean   : 40.69   4   :  320     \n",
       " 3rd Qu.: 40.77   3rd Qu.:-73.97    3rd Qu.: 40.77   5   : 1025     \n",
       " Max.   : 41.37   Max.   : 40.80    Max.   : 41.37   6   :  296     \n",
       "                                                     NA's:   56     "
      ]
     },
     "metadata": {},
     "output_type": "display_data"
    }
   ],
   "source": [
    "# fare_amount   pickup_datetime  pickup_longitude \n",
    "# 435.661952       4635.700531          2.659050 \n",
    "# pickup_latitude dropoff_longitude  dropoff_latitude \n",
    "# 2.613305          2.710835          2.632400 \n",
    "# passenger_count \n",
    "# 1.263859\n",
    "\n",
    "sum(is.na(train))\n",
    "str(train)\n",
    "summary(train)\n",
    "\n",
    "df1=train"
   ]
  },
  {
   "cell_type": "code",
   "execution_count": 33,
   "metadata": {},
   "outputs": [
    {
     "name": "stderr",
     "output_type": "stream",
     "text": [
      "Warning message:\n",
      "\"Removed 30 rows containing non-finite values (stat_boxplot).\""
     ]
    },
    {
     "data": {
      "image/png": "[encoded data removed]",
      "text/plain": [
       "plot without title"
      ]
     },
     "metadata": {},
     "output_type": "display_data"
    }
   ],
   "source": [
    "# We Will do Outlier Analysis only on Fare_amount just for now and we will do outlier analysis after feature engineering laitudes and longitudes.\n",
    "# Boxplot for fare_amount\n",
    "\n",
    "pl1 = ggplot(train,aes(x = factor(passenger_count),y = fare_amount))\n",
    "pl1 + geom_boxplot(outlier.colour=\"red\", fill = \"grey\" ,outlier.shape=18,outlier.size=1, notch=FALSE)+ylim(0,100)"
   ]
  },
  {
   "cell_type": "code",
   "execution_count": 34,
   "metadata": {},
   "outputs": [],
   "source": [
    "# Replace all outliers with NA and impute\n",
    "\n",
    "vals = train[,\"fare_amount\"] %in% boxplot.stats(train[,\"fare_amount\"])$out\n",
    "train[which(vals),\"fare_amount\"] = NA"
   ]
  },
  {
   "cell_type": "code",
   "execution_count": 35,
   "metadata": {},
   "outputs": [
    {
     "data": {
      "text/html": [
       "1380"
      ],
      "text/latex": [
       "1380"
      ],
      "text/markdown": [
       "1380"
      ],
      "text/plain": [
       "[1] 1380"
      ]
     },
     "metadata": {},
     "output_type": "display_data"
    }
   ],
   "source": [
    "#lets check the NA's\n",
    "\n",
    "sum(is.na(train$fare_amount))"
   ]
  },
  {
   "cell_type": "code",
   "execution_count": 38,
   "metadata": {},
   "outputs": [
    {
     "data": {
      "text/html": [
       "0"
      ],
      "text/latex": [
       "0"
      ],
      "text/markdown": [
       "0"
      ],
      "text/plain": [
       "[1] 0"
      ]
     },
     "metadata": {},
     "output_type": "display_data"
    },
    {
     "name": "stdout",
     "output_type": "stream",
     "text": [
      "'data.frame':\t0 obs. of  7 variables:\n",
      " $ fare_amount      : num \n",
      " $ pickup_datetime  : Factor w/ 16021 levels \"2009-01-01 01:31:49 UTC\",..: \n",
      " $ pickup_longitude : num \n",
      " $ pickup_latitude  : num \n",
      " $ dropoff_longitude: num \n",
      " $ dropoff_latitude : num \n",
      " $ passenger_count  : num \n"
     ]
    }
   ],
   "source": [
    "# lets check the missing values\n",
    "\n",
    "sum(is.na(train$fare_amount))\n",
    "str(train)\n",
    "\n",
    "df2=train"
   ]
  },
  {
   "cell_type": "code",
   "execution_count": 36,
   "metadata": {},
   "outputs": [],
   "source": [
    "# 1.Feature Engineering for timestamp variable\n",
    "# we will derive new features from pickup_datetime variable\n",
    "# new features will be year,month,day_of_week,hour\n",
    "#Convert pickup_datetime from factor to date time\n",
    "\n",
    "train$pickup_date = as.Date(as.character(train$pickup_datetime))\n",
    "train$pickup_weekday = as.factor(format(train$pickup_date,\"%u\"))# Monday = 1\n",
    "train$pickup_mnth = as.factor(format(train$pickup_date,\"%m\"))\n",
    "train$pickup_yr = as.factor(format(train$pickup_date,\"%Y\"))\n",
    "pickup_time = strptime(train$pickup_datetime,\"%Y-%m-%d %H:%M:%S\")\n",
    "train$pickup_hour = as.factor(format(pickup_time,\"%H\"))"
   ]
  },
  {
   "cell_type": "code",
   "execution_count": 37,
   "metadata": {},
   "outputs": [],
   "source": [
    "#Add same features to test set\n",
    "\n",
    "test$pickup_date = as.Date(as.character(test$pickup_datetime))\n",
    "test$pickup_weekday = as.factor(format(test$pickup_date,\"%u\"))# Monday = 1\n",
    "test$pickup_mnth = as.factor(format(test$pickup_date,\"%m\"))\n",
    "test$pickup_yr = as.factor(format(test$pickup_date,\"%Y\"))\n",
    "pickup_time = strptime(test$pickup_datetime,\"%Y-%m-%d %H:%M:%S\")\n",
    "test$pickup_hour = as.factor(format(pickup_time,\"%H\"))"
   ]
  },
  {
   "cell_type": "code",
   "execution_count": 38,
   "metadata": {},
   "outputs": [
    {
     "data": {
      "text/html": [
       "1441"
      ],
      "text/latex": [
       "1441"
      ],
      "text/markdown": [
       "1441"
      ],
      "text/plain": [
       "[1] 1441"
      ]
     },
     "metadata": {},
     "output_type": "display_data"
    }
   ],
   "source": [
    "sum(is.na(train))# there was 1 'na' in pickup_datetime which created na's in above feature engineered variables.\n",
    "train = na.omit(train) # we will remove that 1 row of na's"
   ]
  },
  {
   "cell_type": "code",
   "execution_count": 39,
   "metadata": {},
   "outputs": [],
   "source": [
    "train = subset(train,select = -c(pickup_datetime,pickup_date))\n",
    "test = subset(test,select = -c(pickup_datetime,pickup_date))"
   ]
  },
  {
   "cell_type": "code",
   "execution_count": 40,
   "metadata": {},
   "outputs": [],
   "source": [
    "# Now we will use month,weekday,hour to derive new features like sessions in a day,seasons in a year,week:weekend/weekday\n",
    "\n",
    "f = function(x){\n",
    "  if ((x >=5)& (x <= 11)){\n",
    "    return ('morning')\n",
    "  }\n",
    "  if ((x >=12) & (x <= 16)){\n",
    "    return ('afternoon')\n",
    "  }\n",
    "  if ((x >=17) & (x <= 20)){\n",
    "    return ('evening')\n",
    "  }\n",
    "  if ((x >=21) & (x <= 23)){\n",
    "    return ('night (PM)')\n",
    "  }\n",
    "  if ((x >=0) & (x <= 4)){\n",
    "    return ('night (AM)')\n",
    "  }\n",
    "}"
   ]
  },
  {
   "cell_type": "code",
   "execution_count": 41,
   "metadata": {},
   "outputs": [],
   "source": [
    "# 2.Calculate the distance travelled using longitude and latitude\n",
    "\n",
    "deg_to_rad = function(deg){\n",
    "  (deg * pi) / 180\n",
    "}\n",
    "haversine = function(long1,lat1,long2,lat2){\n",
    "  #long1rad = deg_to_rad(long1)\n",
    "  phi1 = deg_to_rad(lat1)\n",
    "  #long2rad = deg_to_rad(long2)\n",
    "  phi2 = deg_to_rad(lat2)\n",
    "  delphi = deg_to_rad(lat2 - lat1)\n",
    "  dellamda = deg_to_rad(long2 - long1)\n",
    "  \n",
    "  a = sin(delphi/2) * sin(delphi/2) + cos(phi1) * cos(phi2) * \n",
    "    sin(dellamda/2) * sin(dellamda/2)\n",
    "  \n",
    "  c = 2 * atan2(sqrt(a),sqrt(1-a))\n",
    "  R = 6371e3\n",
    "  R * c / 1000 #1000 is used to convert to meters\n",
    "}"
   ]
  },
  {
   "cell_type": "code",
   "execution_count": 42,
   "metadata": {},
   "outputs": [],
   "source": [
    "# Using haversine formula to calculate distance fr both train and test\n",
    "\n",
    "train$dist = haversine(train$pickup_longitude,train$pickup_latitude,train$dropoff_longitude,train$dropoff_latitude)\n",
    "test$dist = haversine(test$pickup_longitude,test$pickup_latitude,test$dropoff_longitude,test$dropoff_latitude)"
   ]
  },
  {
   "cell_type": "code",
   "execution_count": 43,
   "metadata": {},
   "outputs": [],
   "source": [
    "# We will remove the variables which were used to feature engineer new variables\n",
    "\n",
    "train = subset(train,select = -c(pickup_longitude,pickup_latitude,dropoff_longitude,dropoff_latitude))\n",
    "test = subset(test,select = -c(pickup_longitude,pickup_latitude,dropoff_longitude,dropoff_latitude))"
   ]
  },
  {
   "cell_type": "code",
   "execution_count": 44,
   "metadata": {},
   "outputs": [
    {
     "name": "stdout",
     "output_type": "stream",
     "text": [
      "'data.frame':\t14227 obs. of  7 variables:\n",
      " $ fare_amount    : num  4.5 16.9 5.7 7.7 5.3 12.1 7.5 16.5 8.9 5.3 ...\n",
      " $ passenger_count: Factor w/ 6 levels \"1\",\"2\",\"3\",\"4\",..: 1 1 2 1 1 1 1 1 2 1 ...\n",
      " $ pickup_weekday : Factor w/ 7 levels \"1\",\"2\",\"3\",\"4\",..: 1 2 4 6 2 4 2 3 3 7 ...\n",
      " $ pickup_mnth    : Factor w/ 12 levels \"01\",\"02\",\"03\",..: 6 1 8 4 3 1 11 1 9 4 ...\n",
      " $ pickup_yr      : Factor w/ 7 levels \"2009\",\"2010\",..: 1 2 3 4 2 3 4 4 1 4 ...\n",
      " $ pickup_hour    : Factor w/ 24 levels \"00\",\"01\",\"02\",..: 18 17 1 5 8 10 21 18 2 8 ...\n",
      " $ dist           : num  1.03 8.45 1.39 2.8 2 ...\n"
     ]
    },
    {
     "data": {
      "text/plain": [
       "  fare_amount     passenger_count pickup_weekday  pickup_mnth   pickup_yr  \n",
       " Min.   : 1.140   1:10092         1:1872         03     :1351   2009:2253  \n",
       " 1st Qu.: 5.700   2: 2036         2:2032         05     :1338   2010:2270  \n",
       " Median : 8.000   3:  600         3:2073         01     :1336   2011:2235  \n",
       " Mean   : 8.914   4:  295         4:2059         06     :1327   2012:2249  \n",
       " 3rd Qu.:11.000   5:  932         5:2107         04     :1274   2013:2219  \n",
       " Max.   :22.100   6:  272         6:2193         02     :1188   2014:2005  \n",
       "                                  7:1891         (Other):6413   2015: 996  \n",
       "  pickup_hour        dist         \n",
       " 19     : 910   Min.   :   0.000  \n",
       " 18     : 897   1st Qu.:   1.202  \n",
       " 20     : 868   Median :   1.989  \n",
       " 21     : 829   Mean   :   3.282  \n",
       " 22     : 807   3rd Qu.:   3.300  \n",
       " 09     : 715   Max.   :5420.989  \n",
       " (Other):9201                     "
      ]
     },
     "metadata": {},
     "output_type": "display_data"
    }
   ],
   "source": [
    "str(train)\n",
    "summary(train)"
   ]
  },
  {
   "cell_type": "code",
   "execution_count": 45,
   "metadata": {},
   "outputs": [],
   "source": [
    "# Feature selection\n",
    "\n",
    "numeric_index = sapply(train,is.numeric) #selecting only numeric\n",
    "\n",
    "numeric_data = train[,numeric_index]\n",
    "\n",
    "cnames = colnames(numeric_data)"
   ]
  },
  {
   "cell_type": "code",
   "execution_count": 46,
   "metadata": {},
   "outputs": [],
   "source": [
    "# pickup_weekdat has p value greater than 0.05 \n",
    "\n",
    "train = subset(train,select=-pickup_weekday)"
   ]
  },
  {
   "cell_type": "code",
   "execution_count": 62,
   "metadata": {},
   "outputs": [],
   "source": [
    "par(mfrow=c(1,2))"
   ]
  },
  {
   "cell_type": "code",
   "execution_count": 64,
   "metadata": {},
   "outputs": [
    {
     "data": {
      "image/png": "[encoded data removed]",
      "text/plain": [
       "plot without title"
      ]
     },
     "metadata": {},
     "output_type": "display_data"
    }
   ],
   "source": [
    "# truehist() scales the counts to give an estimate of the probability density.\n",
    "truehist(train$fare_amount)"
   ]
  },
  {
   "cell_type": "code",
   "execution_count": 74,
   "metadata": {},
   "outputs": [
    {
     "name": "stdout",
     "output_type": "stream",
     "text": [
      "[1] \"dist\"\n"
     ]
    }
   ],
   "source": [
    "#Normalisation\n",
    "\n",
    "print('dist')\n",
    "train[,'dist'] = (train[,'dist'] - min(train[,'dist']))/\n",
    "    (max(train[,'dist'] - min(train[,'dist'])))"
   ]
  },
  {
   "cell_type": "code",
   "execution_count": 76,
   "metadata": {},
   "outputs": [
    {
     "name": "stderr",
     "output_type": "stream",
     "text": [
      "Warning message in model.response(mf, \"numeric\"):\n",
      "\"using type = \"numeric\" with a factor response will be ignored\"Warning message in Ops.factor(y, z$residuals):\n",
      "\"'-' not meaningful for factors\"Warning message in Ops.factor(r, 2):\n",
      "\"'^' not meaningful for factors\"Warning message in model.response(mf, \"numeric\"):\n",
      "\"using type = \"numeric\" with a factor response will be ignored\"Warning message in Ops.factor(y, z$residuals):\n",
      "\"'-' not meaningful for factors\"Warning message in Ops.factor(r, 2):\n",
      "\"'^' not meaningful for factors\"Warning message in model.response(mf, \"numeric\"):\n",
      "\"using type = \"numeric\" with a factor response will be ignored\"Warning message in Ops.factor(y, z$residuals):\n",
      "\"'-' not meaningful for factors\"Warning message in Ops.factor(r, 2):\n",
      "\"'^' not meaningful for factors\"Warning message in model.response(mf, \"numeric\"):\n",
      "\"using type = \"numeric\" with a factor response will be ignored\"Warning message in Ops.factor(y, z$residuals):\n",
      "\"'-' not meaningful for factors\"Warning message in Ops.factor(r, 2):\n",
      "\"'^' not meaningful for factors\""
     ]
    },
    {
     "data": {
      "text/html": [
       "<table>\n",
       "<thead><tr><th scope=col>Variables</th><th scope=col>VIF</th></tr></thead>\n",
       "<tbody>\n",
       "\t<tr><td>passenger_count</td><td>      NA       </td></tr>\n",
       "\t<tr><td>pickup_mnth    </td><td>      NA       </td></tr>\n",
       "\t<tr><td>pickup_yr      </td><td>      NA       </td></tr>\n",
       "\t<tr><td>pickup_hour    </td><td>      NA       </td></tr>\n",
       "\t<tr><td>dist           </td><td>1.011809       </td></tr>\n",
       "</tbody>\n",
       "</table>\n"
      ],
      "text/latex": [
       "\\begin{tabular}{r|ll}\n",
       " Variables & VIF\\\\\n",
       "\\hline\n",
       "\t passenger\\_count &       NA         \\\\\n",
       "\t pickup\\_mnth     &       NA         \\\\\n",
       "\t pickup\\_yr       &       NA         \\\\\n",
       "\t pickup\\_hour     &       NA         \\\\\n",
       "\t dist            & 1.011809       \\\\\n",
       "\\end{tabular}\n"
      ],
      "text/markdown": [
       "\n",
       "| Variables | VIF |\n",
       "|---|---|\n",
       "| passenger_count |       NA        |\n",
       "| pickup_mnth     |       NA        |\n",
       "| pickup_yr       |       NA        |\n",
       "| pickup_hour     |       NA        |\n",
       "| dist            | 1.011809        |\n",
       "\n"
      ],
      "text/plain": [
       "  Variables       VIF     \n",
       "1 passenger_count       NA\n",
       "2 pickup_mnth           NA\n",
       "3 pickup_yr             NA\n",
       "4 pickup_hour           NA\n",
       "5 dist            1.011809"
      ]
     },
     "metadata": {},
     "output_type": "display_data"
    },
    {
     "ename": "ERROR",
     "evalue": "Error in cor(x): 'x' must be numeric\n",
     "output_type": "error",
     "traceback": [
      "Error in cor(x): 'x' must be numeric\nTraceback:\n",
      "1. vifcor(train[, -1], th = 0.9)",
      "2. vifcor(train[, -1], th = 0.9)",
      "3. .local(x, th, ...)",
      "4. cor(x)",
      "5. stop(\"'x' must be numeric\")"
     ]
    }
   ],
   "source": [
    "# #check multicollearity\n",
    "library(usdm)\n",
    "vif(train[,-1])\n",
    "\n",
    "vifcor(train[,-1], th = 0.9)"
   ]
  },
  {
   "cell_type": "code",
   "execution_count": 90,
   "metadata": {},
   "outputs": [
    {
     "data": {
      "text/plain": [
       "                Length Class  Mode     \n",
       "call                3  -none- call     \n",
       "type                1  -none- character\n",
       "predicted       10672  -none- numeric  \n",
       "mse               500  -none- numeric  \n",
       "rsq               500  -none- numeric  \n",
       "oob.times       10672  -none- numeric  \n",
       "importance          5  -none- numeric  \n",
       "importanceSD        0  -none- NULL     \n",
       "localImportance     0  -none- NULL     \n",
       "proximity           0  -none- NULL     \n",
       "ntree               1  -none- numeric  \n",
       "mtry                1  -none- numeric  \n",
       "forest             11  -none- list     \n",
       "coefs               0  -none- NULL     \n",
       "y               10672  -none- numeric  \n",
       "test                0  -none- NULL     \n",
       "inbag               0  -none- NULL     \n",
       "terms               3  terms  call     "
      ]
     },
     "metadata": {},
     "output_type": "display_data"
    },
    {
     "ename": "ERROR",
     "evalue": "Error in regr.eval(test_data[, 1], rf_predictions): could not find function \"regr.eval\"\n",
     "output_type": "error",
     "traceback": [
      "Error in regr.eval(test_data[, 1], rf_predictions): could not find function \"regr.eval\"\nTraceback:\n"
     ]
    },
    {
     "data": {
      "image/png": "[encoded data removed]",
      "text/plain": [
       "plot without title"
      ]
     },
     "metadata": {},
     "output_type": "display_data"
    }
   ],
   "source": [
    "# Random forest\n",
    "\n",
    "rf_model = randomForest(fare_amount ~.,data=train_data)\n",
    "\n",
    "summary(rf_model)\n",
    "\n",
    "rf_predictions = predict(rf_model,test_data[,2:6])\n",
    "\n",
    "qplot(x = test_data[,1], y = rf_predictions, data = test_data, color = I(\"blue\"), geom = \"point\")\n",
    "\n",
    "regr.eval(test_data[,1],rf_predictions)"
   ]
  },
  {
   "cell_type": "code",
   "execution_count": null,
   "metadata": {},
   "outputs": [],
   "source": []
  }
 ],
 "metadata": {
  "kernelspec": {
   "display_name": "R",
   "language": "R",
   "name": "ir"
  },
  "language_info": {
   "codemirror_mode": "r",
   "file_extension": ".r",
   "mimetype": "text/x-r-source",
   "name": "R",
   "pygments_lexer": "r",
   "version": "3.6.1"
  }
 },
 "nbformat": 4,
 "nbformat_minor": 2
}
